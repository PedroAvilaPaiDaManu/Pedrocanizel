{
  "nbformat": 4,
  "nbformat_minor": 0,
  "metadata": {
    "colab": {
      "provenance": [],
      "authorship_tag": "ABX9TyP2LR1YJKRem8lwyGSzjctj",
      "include_colab_link": true
    },
    "kernelspec": {
      "name": "python3",
      "display_name": "Python 3"
    },
    "language_info": {
      "name": "python"
    }
  },
  "cells": [
    {
      "cell_type": "markdown",
      "metadata": {
        "id": "view-in-github",
        "colab_type": "text"
      },
      "source": [
        "<a href=\"https://colab.research.google.com/github/PedroAvilaPaiDaManu/Pedrocanizel/blob/main/project_sales.ipynb\" target=\"_parent\"><img src=\"https://colab.research.google.com/assets/colab-badge.svg\" alt=\"Open In Colab\"/></a>"
      ]
    },
    {
      "cell_type": "code",
      "execution_count": 69,
      "metadata": {
        "colab": {
          "base_uri": "https://localhost:8080/"
        },
        "id": "4r2rJ35wvXll",
        "outputId": "edcabc6e-1921-48c5-a477-c90bb67e440f"
      },
      "outputs": [
        {
          "output_type": "stream",
          "name": "stdout",
          "text": [
            "--2023-03-07 16:46:59--  https://archive.apache.org/dist/spark/spark-3.2.2/spark-3.2.2-bin-hadoop3.2.tgz\n",
            "Resolving archive.apache.org (archive.apache.org)... 138.201.131.134, 2a01:4f8:172:2ec5::2\n",
            "Connecting to archive.apache.org (archive.apache.org)|138.201.131.134|:443... connected.\n",
            "HTTP request sent, awaiting response... 200 OK\n",
            "Length: 301112604 (287M) [application/x-gzip]\n",
            "Saving to: ‘spark-3.2.2-bin-hadoop3.2.tgz.1’\n",
            "\n",
            "spark-3.2.2-bin-had 100%[===================>] 287.16M  9.58MB/s    in 20s     \n",
            "\n",
            "2023-03-07 16:47:19 (14.2 MB/s) - ‘spark-3.2.2-bin-hadoop3.2.tgz.1’ saved [301112604/301112604]\n",
            "\n"
          ]
        }
      ],
      "source": [
        "!apt-get install openjdk-11-jdk-headless -qq > /dev/null\n",
        "!wget https://archive.apache.org/dist/spark/spark-3.2.2/spark-3.2.2-bin-hadoop3.2.tgz\n",
        "!tar xf spark-3.2.2-bin-hadoop3.2.tgz\n",
        "!pip install -q findspark pandas numpy\n",
        "\n",
        "# configurar as variáveis de ambiente\n",
        "import os\n",
        "os.environ[\"JAVA_HOME\"] = \"/usr/lib/jvm/java-11-openjdk-amd64\"\n",
        "os.environ[\"SPARK_HOME\"] = \"/content/spark-3.2.2-bin-hadoop3.2\"\n",
        "\n",
        "# tornar o pyspark \"importável\"\n",
        "import findspark\n",
        "findspark.init('spark-3.2.2-bin-hadoop3.2')\n",
        "\n",
        "\n",
        "from pyspark.sql import functions as func\n",
        "from pyspark.sql import SparkSession\n",
        "from pyspark.sql import types as T\n",
        "from pyspark.sql import functions as F\n",
        "import pyspark.pandas as ps\n",
        "import pandas as pd\n",
        "import numpy as np\n",
        "import warnings, re\n",
        "\n",
        "\n",
        "warnings.filterwarnings('ignore')\n",
        "pd.set_option('display.max_columns', None)\n",
        "\n",
        "\n",
        "# Instanciando Spark\n",
        "spark = SparkSession.builder.master('local[*]').getOrCreate()"
      ]
    },
    {
      "cell_type": "code",
      "source": [
        "import datetime"
      ],
      "metadata": {
        "id": "cfL2Sj--mykI"
      },
      "execution_count": 177,
      "outputs": []
    },
    {
      "cell_type": "code",
      "source": [
        "import seaborn as sns"
      ],
      "metadata": {
        "id": "DILv_m6HI7yD"
      },
      "execution_count": 122,
      "outputs": []
    },
    {
      "cell_type": "code",
      "source": [
        "from pyspark.sql.functions import monotonically_increasing_id "
      ],
      "metadata": {
        "id": "fpk_ECo8zTtO"
      },
      "execution_count": 70,
      "outputs": []
    },
    {
      "cell_type": "code",
      "source": [
        "path = \"/content/Base de Dados - Questionário.xlsx - Sheet1.csv\""
      ],
      "metadata": {
        "id": "pN5dHAbFvmBN"
      },
      "execution_count": 71,
      "outputs": []
    },
    {
      "cell_type": "code",
      "source": [
        "df = spark.read.format(\"csv\").option(\"header\", True).option(\"ignoreLeadingWhiteSpace\", True).option(\"inferSchema\", True).options(delimiter=',').load(path)"
      ],
      "metadata": {
        "id": "tef04mJ6wMKw"
      },
      "execution_count": 72,
      "outputs": []
    },
    {
      "cell_type": "code",
      "source": [
        "df.printSchema()"
      ],
      "metadata": {
        "colab": {
          "base_uri": "https://localhost:8080/"
        },
        "id": "cgv8HWPg9pq0",
        "outputId": "7e32577e-afbe-4c33-89f9-55d0fc9cb906"
      },
      "execution_count": 73,
      "outputs": [
        {
          "output_type": "stream",
          "name": "stdout",
          "text": [
            "root\n",
            " |-- _c0: string (nullable = true)\n",
            " |-- _c1: string (nullable = true)\n",
            " |-- _c2: string (nullable = true)\n",
            " |-- _c3: string (nullable = true)\n",
            " |-- _c4: string (nullable = true)\n",
            " |-- _c5: string (nullable = true)\n",
            " |-- _c6: string (nullable = true)\n",
            " |-- _c7: string (nullable = true)\n",
            " |-- _c8: string (nullable = true)\n",
            " |-- _c9: string (nullable = true)\n",
            "\n"
          ]
        }
      ]
    },
    {
      "cell_type": "code",
      "source": [
        "df_index = df.select(\"*\").withColumn(\"id\", monotonically_increasing_id())"
      ],
      "metadata": {
        "id": "lg5Dg89hx7-j"
      },
      "execution_count": 74,
      "outputs": []
    },
    {
      "cell_type": "code",
      "source": [
        "filtro = df_index['id'] > 2"
      ],
      "metadata": {
        "id": "JVDZHtvmz4rE"
      },
      "execution_count": 75,
      "outputs": []
    },
    {
      "cell_type": "code",
      "source": [
        "df_novo = df_index.filter(filtro)"
      ],
      "metadata": {
        "id": "HQy8V09zzpN7"
      },
      "execution_count": 76,
      "outputs": []
    },
    {
      "cell_type": "code",
      "source": [
        "df_novo.select('_c0','_c1').distinct().show()"
      ],
      "metadata": {
        "colab": {
          "base_uri": "https://localhost:8080/"
        },
        "id": "IcwhPpwc1DCc",
        "outputId": "3d8c7f16-51b4-4bf6-d913-812139430d70"
      },
      "execution_count": 77,
      "outputs": [
        {
          "output_type": "stream",
          "name": "stdout",
          "text": [
            "+----+----+\n",
            "| _c0| _c1|\n",
            "+----+----+\n",
            "|null|null|\n",
            "+----+----+\n",
            "\n"
          ]
        }
      ]
    },
    {
      "cell_type": "code",
      "source": [
        "df_novo = df_novo.drop('_c0','_c1')\n",
        "    "
      ],
      "metadata": {
        "id": "x3TBjMP51s7K"
      },
      "execution_count": 78,
      "outputs": []
    },
    {
      "cell_type": "code",
      "source": [
        "df_novo1 = df_novo.withColumnRenamed(\"_c2\",\"idem\")\\\n",
        "        .withColumnRenamed(\"_c3\",\"product_id\")\\\n",
        "        .withColumnRenamed(\"_c4\",\"client_id\")\\\n",
        "        .withColumnRenamed(\"_c5\",\"discount\")\\\n",
        "        .withColumnRenamed(\"_c6\",\"unit_price\")\\\n",
        "        .withColumnRenamed(\"_c7\",\"quantity\")\\\n",
        "        .withColumnRenamed(\"_c8\",\"store_id\")\\\n",
        "        .withColumnRenamed(\"_c9\",\"date\")\\\n",
        "        .withColumnRenamed(\"id\",\"id_temp\")"
      ],
      "metadata": {
        "id": "gGJm26YA2Z38"
      },
      "execution_count": 79,
      "outputs": []
    },
    {
      "cell_type": "code",
      "source": [
        "df_novo1 = df_novo1.filter(df_novo1.id_temp != 3)\n",
        "\n"
      ],
      "metadata": {
        "id": "XqytcJ6z4Iys"
      },
      "execution_count": 80,
      "outputs": []
    },
    {
      "cell_type": "code",
      "source": [
        "df_novo1.groupBy(\"product_id\").count().orderBy(F.col('count').desc()).show(truncate=False)"
      ],
      "metadata": {
        "colab": {
          "base_uri": "https://localhost:8080/"
        },
        "id": "7Y7ChjLbEcDT",
        "outputId": "006c1ba8-bb32-46e2-ccf7-5cf6d0cf2e2e"
      },
      "execution_count": 118,
      "outputs": [
        {
          "output_type": "stream",
          "name": "stdout",
          "text": [
            "+---------------------------------+-----+\n",
            "|product_id                       |count|\n",
            "+---------------------------------+-----+\n",
            "|002ec297b1b00fb9dde7ee6ac24b67713|966  |\n",
            "|002d4ea7c04739c130bb74d7e7cd16943|963  |\n",
            "|001c5d71ac6ad696d22315953758fa043|944  |\n",
            "|0011c512eb256aa0dbbb544d8dffcf6e3|940  |\n",
            "|0030026a6ddb3b2d1d4bc225b4b4c4da3|939  |\n",
            "|002c6dab60557c48cfd6c2222ef7fd763|938  |\n",
            "|001b237c0e9bb435f2e54071129237e93|935  |\n",
            "|00126f27c813603687e6ce486d909d013|933  |\n",
            "|0009406fd7479715e4bef61dd91f24623|927  |\n",
            "|0021a87d4997a48b6cef1665602be0f53|922  |\n",
            "|002959d7a0b0990fe2d69988affcbc803|920  |\n",
            "|00088930e925c41fd95ebfe695fd26553|916  |\n",
            "|001b72dfd63e9833e8c02742adf472e33|913  |\n",
            "|002af88741ba70c7b5cf4e4a0ad7ef853|908  |\n",
            "|0030e635639c898b323826589761cf233|907  |\n",
            "|002552c0663708129c0019cc97552d7d3|903  |\n",
            "|001795ec6f1b187d37335e1c4704762e3|900  |\n",
            "|00250175f79f584c14ab5cecd80553cd3|895  |\n",
            "|002159fe700ed3521f46cfcf6e941c763|893  |\n",
            "|000d9be29b5207b54e86aa1b1ac548723|891  |\n",
            "+---------------------------------+-----+\n",
            "only showing top 20 rows\n",
            "\n"
          ]
        }
      ]
    },
    {
      "cell_type": "code",
      "source": [
        "df_novo = df_novo.filter(filtro)"
      ],
      "metadata": {
        "id": "yHKjHsk95Gkm"
      },
      "execution_count": 81,
      "outputs": []
    },
    {
      "cell_type": "code",
      "source": [
        "df_contagem = df_novo1.select(\"product_id\").distinct().count()"
      ],
      "metadata": {
        "id": "HK-gAqpaBszs"
      },
      "execution_count": 98,
      "outputs": []
    },
    {
      "cell_type": "code",
      "source": [
        "df_contagem"
      ],
      "metadata": {
        "colab": {
          "base_uri": "https://localhost:8080/"
        },
        "id": "K8_4kcG_Cjd7",
        "outputId": "00b285cb-1de4-464e-ed0c-89e6bc84aeed"
      },
      "execution_count": 99,
      "outputs": [
        {
          "output_type": "execute_result",
          "data": {
            "text/plain": [
              "73"
            ]
          },
          "metadata": {},
          "execution_count": 99
        }
      ]
    },
    {
      "cell_type": "code",
      "source": [
        "df_contagem2 = df_novo1.groupBy(\"product_id\")"
      ],
      "metadata": {
        "id": "TtAUFd27DANb"
      },
      "execution_count": 105,
      "outputs": []
    },
    {
      "cell_type": "code",
      "source": [
        "df_5 = (\n",
        "    df_novo1.withColumn('ano', F.substring('date', 1, 4).cast('integer'))\n",
        "    )"
      ],
      "metadata": {
        "id": "An47K_2vLCFM"
      },
      "execution_count": 124,
      "outputs": []
    },
    {
      "cell_type": "code",
      "source": [
        "df_ir= df_novo1.filter(df_novo1.date.contains('2019'))"
      ],
      "metadata": {
        "id": "K1P9PPv7M-TV"
      },
      "execution_count": 194,
      "outputs": []
    },
    {
      "cell_type": "markdown",
      "source": [],
      "metadata": {
        "id": "bKLtlujTNWKL"
      }
    },
    {
      "cell_type": "code",
      "source": [
        "pa_pf = df_ir.toPandas()\n"
      ],
      "metadata": {
        "id": "W57D2j5vPrvL"
      },
      "execution_count": 208,
      "outputs": []
    },
    {
      "cell_type": "code",
      "source": [
        "pa_pf[\"quantity\"] = pd.to_numeric(pa_pf[\"quantity\"])\n"
      ],
      "metadata": {
        "id": "4dlnhFYdbBhL"
      },
      "execution_count": 209,
      "outputs": []
    },
    {
      "cell_type": "code",
      "source": [
        "pa_pf[\"date\"] = pd.to_datetime(pa_pf[\"date\"])\n"
      ],
      "metadata": {
        "id": "nQ-1A5rHnGe0"
      },
      "execution_count": 210,
      "outputs": []
    },
    {
      "cell_type": "code",
      "source": [
        "pa_pf[\"unit_price\"] = pa_pf[\"unit_price\"].str.replace(',','.').astype(float)\n"
      ],
      "metadata": {
        "id": "5k3672-mj-F7"
      },
      "execution_count": 211,
      "outputs": []
    },
    {
      "cell_type": "code",
      "source": [
        "pa_pf[\"discount\"] = pa_pf[\"discount\"].str.replace(',','.').astype(float)"
      ],
      "metadata": {
        "id": "uy1zzbMIlCYT"
      },
      "execution_count": 212,
      "outputs": []
    },
    {
      "cell_type": "code",
      "source": [
        "pa_pf['mes'] = pa_pf['date'].dt.month"
      ],
      "metadata": {
        "id": "7puhjh5gmYnz"
      },
      "execution_count": 213,
      "outputs": []
    },
    {
      "cell_type": "code",
      "source": [
        "pa_pf.head()"
      ],
      "metadata": {
        "colab": {
          "base_uri": "https://localhost:8080/",
          "height": 357
        },
        "id": "vOX-B3k0nYzW",
        "outputId": "52e9caea-9c62-45bc-e9b7-05a4dc4ea587"
      },
      "execution_count": 214,
      "outputs": [
        {
          "output_type": "execute_result",
          "data": {
            "text/plain": [
              "                               idem                         product_id  \\\n",
              "0  3275736da1234f55d52bdf09d86b93bc  001b237c0e9bb435f2e54071129237e93   \n",
              "1  f3513eec8f1434b5b7e04ddf3598df40  00066f42aeeb9f3007548bb9d3f33c381   \n",
              "2  76600853a200fe87e141adae6b35674c  00210e41887c2a8ef9f791ebc780cc363   \n",
              "3  7ab64f42a8f9ab290e920eed320d7e60  002552c0663708129c0019cc97552d7d3   \n",
              "4  b35a771164a9defa3b4767f1b66918b1  002959d7a0b0990fe2d69988affcbc803   \n",
              "\n",
              "  client_id  discount  unit_price  quantity store_id       date  id_temp  mes  \n",
              "0     14001      0.10       162.4         1        4 2019-04-25        5    4  \n",
              "1     14001      0.10       194.6         1        4 2019-07-17        6    7  \n",
              "2     14002      0.10       406.0         1        1 2019-01-21        8    1  \n",
              "3     14002      0.10       249.2         1        1 2019-03-28        9    3  \n",
              "4     14002      0.08       261.8         1        1 2019-08-14       10    8  "
            ],
            "text/html": [
              "\n",
              "  <div id=\"df-6406951a-2146-4c44-b8c7-88bf6c0aa1ee\">\n",
              "    <div class=\"colab-df-container\">\n",
              "      <div>\n",
              "<style scoped>\n",
              "    .dataframe tbody tr th:only-of-type {\n",
              "        vertical-align: middle;\n",
              "    }\n",
              "\n",
              "    .dataframe tbody tr th {\n",
              "        vertical-align: top;\n",
              "    }\n",
              "\n",
              "    .dataframe thead th {\n",
              "        text-align: right;\n",
              "    }\n",
              "</style>\n",
              "<table border=\"1\" class=\"dataframe\">\n",
              "  <thead>\n",
              "    <tr style=\"text-align: right;\">\n",
              "      <th></th>\n",
              "      <th>idem</th>\n",
              "      <th>product_id</th>\n",
              "      <th>client_id</th>\n",
              "      <th>discount</th>\n",
              "      <th>unit_price</th>\n",
              "      <th>quantity</th>\n",
              "      <th>store_id</th>\n",
              "      <th>date</th>\n",
              "      <th>id_temp</th>\n",
              "      <th>mes</th>\n",
              "    </tr>\n",
              "  </thead>\n",
              "  <tbody>\n",
              "    <tr>\n",
              "      <th>0</th>\n",
              "      <td>3275736da1234f55d52bdf09d86b93bc</td>\n",
              "      <td>001b237c0e9bb435f2e54071129237e93</td>\n",
              "      <td>14001</td>\n",
              "      <td>0.10</td>\n",
              "      <td>162.4</td>\n",
              "      <td>1</td>\n",
              "      <td>4</td>\n",
              "      <td>2019-04-25</td>\n",
              "      <td>5</td>\n",
              "      <td>4</td>\n",
              "    </tr>\n",
              "    <tr>\n",
              "      <th>1</th>\n",
              "      <td>f3513eec8f1434b5b7e04ddf3598df40</td>\n",
              "      <td>00066f42aeeb9f3007548bb9d3f33c381</td>\n",
              "      <td>14001</td>\n",
              "      <td>0.10</td>\n",
              "      <td>194.6</td>\n",
              "      <td>1</td>\n",
              "      <td>4</td>\n",
              "      <td>2019-07-17</td>\n",
              "      <td>6</td>\n",
              "      <td>7</td>\n",
              "    </tr>\n",
              "    <tr>\n",
              "      <th>2</th>\n",
              "      <td>76600853a200fe87e141adae6b35674c</td>\n",
              "      <td>00210e41887c2a8ef9f791ebc780cc363</td>\n",
              "      <td>14002</td>\n",
              "      <td>0.10</td>\n",
              "      <td>406.0</td>\n",
              "      <td>1</td>\n",
              "      <td>1</td>\n",
              "      <td>2019-01-21</td>\n",
              "      <td>8</td>\n",
              "      <td>1</td>\n",
              "    </tr>\n",
              "    <tr>\n",
              "      <th>3</th>\n",
              "      <td>7ab64f42a8f9ab290e920eed320d7e60</td>\n",
              "      <td>002552c0663708129c0019cc97552d7d3</td>\n",
              "      <td>14002</td>\n",
              "      <td>0.10</td>\n",
              "      <td>249.2</td>\n",
              "      <td>1</td>\n",
              "      <td>1</td>\n",
              "      <td>2019-03-28</td>\n",
              "      <td>9</td>\n",
              "      <td>3</td>\n",
              "    </tr>\n",
              "    <tr>\n",
              "      <th>4</th>\n",
              "      <td>b35a771164a9defa3b4767f1b66918b1</td>\n",
              "      <td>002959d7a0b0990fe2d69988affcbc803</td>\n",
              "      <td>14002</td>\n",
              "      <td>0.08</td>\n",
              "      <td>261.8</td>\n",
              "      <td>1</td>\n",
              "      <td>1</td>\n",
              "      <td>2019-08-14</td>\n",
              "      <td>10</td>\n",
              "      <td>8</td>\n",
              "    </tr>\n",
              "  </tbody>\n",
              "</table>\n",
              "</div>\n",
              "      <button class=\"colab-df-convert\" onclick=\"convertToInteractive('df-6406951a-2146-4c44-b8c7-88bf6c0aa1ee')\"\n",
              "              title=\"Convert this dataframe to an interactive table.\"\n",
              "              style=\"display:none;\">\n",
              "        \n",
              "  <svg xmlns=\"http://www.w3.org/2000/svg\" height=\"24px\"viewBox=\"0 0 24 24\"\n",
              "       width=\"24px\">\n",
              "    <path d=\"M0 0h24v24H0V0z\" fill=\"none\"/>\n",
              "    <path d=\"M18.56 5.44l.94 2.06.94-2.06 2.06-.94-2.06-.94-.94-2.06-.94 2.06-2.06.94zm-11 1L8.5 8.5l.94-2.06 2.06-.94-2.06-.94L8.5 2.5l-.94 2.06-2.06.94zm10 10l.94 2.06.94-2.06 2.06-.94-2.06-.94-.94-2.06-.94 2.06-2.06.94z\"/><path d=\"M17.41 7.96l-1.37-1.37c-.4-.4-.92-.59-1.43-.59-.52 0-1.04.2-1.43.59L10.3 9.45l-7.72 7.72c-.78.78-.78 2.05 0 2.83L4 21.41c.39.39.9.59 1.41.59.51 0 1.02-.2 1.41-.59l7.78-7.78 2.81-2.81c.8-.78.8-2.07 0-2.86zM5.41 20L4 18.59l7.72-7.72 1.47 1.35L5.41 20z\"/>\n",
              "  </svg>\n",
              "      </button>\n",
              "      \n",
              "  <style>\n",
              "    .colab-df-container {\n",
              "      display:flex;\n",
              "      flex-wrap:wrap;\n",
              "      gap: 12px;\n",
              "    }\n",
              "\n",
              "    .colab-df-convert {\n",
              "      background-color: #E8F0FE;\n",
              "      border: none;\n",
              "      border-radius: 50%;\n",
              "      cursor: pointer;\n",
              "      display: none;\n",
              "      fill: #1967D2;\n",
              "      height: 32px;\n",
              "      padding: 0 0 0 0;\n",
              "      width: 32px;\n",
              "    }\n",
              "\n",
              "    .colab-df-convert:hover {\n",
              "      background-color: #E2EBFA;\n",
              "      box-shadow: 0px 1px 2px rgba(60, 64, 67, 0.3), 0px 1px 3px 1px rgba(60, 64, 67, 0.15);\n",
              "      fill: #174EA6;\n",
              "    }\n",
              "\n",
              "    [theme=dark] .colab-df-convert {\n",
              "      background-color: #3B4455;\n",
              "      fill: #D2E3FC;\n",
              "    }\n",
              "\n",
              "    [theme=dark] .colab-df-convert:hover {\n",
              "      background-color: #434B5C;\n",
              "      box-shadow: 0px 1px 3px 1px rgba(0, 0, 0, 0.15);\n",
              "      filter: drop-shadow(0px 1px 2px rgba(0, 0, 0, 0.3));\n",
              "      fill: #FFFFFF;\n",
              "    }\n",
              "  </style>\n",
              "\n",
              "      <script>\n",
              "        const buttonEl =\n",
              "          document.querySelector('#df-6406951a-2146-4c44-b8c7-88bf6c0aa1ee button.colab-df-convert');\n",
              "        buttonEl.style.display =\n",
              "          google.colab.kernel.accessAllowed ? 'block' : 'none';\n",
              "\n",
              "        async function convertToInteractive(key) {\n",
              "          const element = document.querySelector('#df-6406951a-2146-4c44-b8c7-88bf6c0aa1ee');\n",
              "          const dataTable =\n",
              "            await google.colab.kernel.invokeFunction('convertToInteractive',\n",
              "                                                     [key], {});\n",
              "          if (!dataTable) return;\n",
              "\n",
              "          const docLinkHtml = 'Like what you see? Visit the ' +\n",
              "            '<a target=\"_blank\" href=https://colab.research.google.com/notebooks/data_table.ipynb>data table notebook</a>'\n",
              "            + ' to learn more about interactive tables.';\n",
              "          element.innerHTML = '';\n",
              "          dataTable['output_type'] = 'display_data';\n",
              "          await google.colab.output.renderOutput(dataTable, element);\n",
              "          const docLink = document.createElement('div');\n",
              "          docLink.innerHTML = docLinkHtml;\n",
              "          element.appendChild(docLink);\n",
              "        }\n",
              "      </script>\n",
              "    </div>\n",
              "  </div>\n",
              "  "
            ]
          },
          "metadata": {},
          "execution_count": 214
        }
      ]
    },
    {
      "cell_type": "code",
      "source": [
        "pa_pf.info()"
      ],
      "metadata": {
        "colab": {
          "base_uri": "https://localhost:8080/"
        },
        "id": "cRZAWQoTb6P7",
        "outputId": "db375ae5-85bf-47a4-f7f1-fb23fb98c7ba"
      },
      "execution_count": 215,
      "outputs": [
        {
          "output_type": "stream",
          "name": "stdout",
          "text": [
            "<class 'pandas.core.frame.DataFrame'>\n",
            "RangeIndex: 14768 entries, 0 to 14767\n",
            "Data columns (total 10 columns):\n",
            " #   Column      Non-Null Count  Dtype         \n",
            "---  ------      --------------  -----         \n",
            " 0   idem        14768 non-null  object        \n",
            " 1   product_id  14768 non-null  object        \n",
            " 2   client_id   14768 non-null  object        \n",
            " 3   discount    14768 non-null  float64       \n",
            " 4   unit_price  14768 non-null  float64       \n",
            " 5   quantity    14768 non-null  int64         \n",
            " 6   store_id    14768 non-null  object        \n",
            " 7   date        14768 non-null  datetime64[ns]\n",
            " 8   id_temp     14768 non-null  int64         \n",
            " 9   mes         14768 non-null  int64         \n",
            "dtypes: datetime64[ns](1), float64(2), int64(3), object(4)\n",
            "memory usage: 1.1+ MB\n"
          ]
        }
      ]
    },
    {
      "cell_type": "code",
      "source": [
        "pa_pf['liquida'] = (pa_pf['quantity'] * pa_pf['unit_price']) - pa_pf['discount'] * (pa_pf['quantity'] * pa_pf['unit_price'])"
      ],
      "metadata": {
        "id": "r6FWcOG61Vem"
      },
      "execution_count": 216,
      "outputs": []
    },
    {
      "cell_type": "code",
      "source": [
        "pa_pf.head()"
      ],
      "metadata": {
        "colab": {
          "base_uri": "https://localhost:8080/",
          "height": 357
        },
        "id": "wvP9dZT-1y_K",
        "outputId": "224c8a6a-5d11-480c-a5af-c25f03466c53"
      },
      "execution_count": 217,
      "outputs": [
        {
          "output_type": "execute_result",
          "data": {
            "text/plain": [
              "                               idem                         product_id  \\\n",
              "0  3275736da1234f55d52bdf09d86b93bc  001b237c0e9bb435f2e54071129237e93   \n",
              "1  f3513eec8f1434b5b7e04ddf3598df40  00066f42aeeb9f3007548bb9d3f33c381   \n",
              "2  76600853a200fe87e141adae6b35674c  00210e41887c2a8ef9f791ebc780cc363   \n",
              "3  7ab64f42a8f9ab290e920eed320d7e60  002552c0663708129c0019cc97552d7d3   \n",
              "4  b35a771164a9defa3b4767f1b66918b1  002959d7a0b0990fe2d69988affcbc803   \n",
              "\n",
              "  client_id  discount  unit_price  quantity store_id       date  id_temp  mes  \\\n",
              "0     14001      0.10       162.4         1        4 2019-04-25        5    4   \n",
              "1     14001      0.10       194.6         1        4 2019-07-17        6    7   \n",
              "2     14002      0.10       406.0         1        1 2019-01-21        8    1   \n",
              "3     14002      0.10       249.2         1        1 2019-03-28        9    3   \n",
              "4     14002      0.08       261.8         1        1 2019-08-14       10    8   \n",
              "\n",
              "   liquida  \n",
              "0  146.160  \n",
              "1  175.140  \n",
              "2  365.400  \n",
              "3  224.280  \n",
              "4  240.856  "
            ],
            "text/html": [
              "\n",
              "  <div id=\"df-fcd19155-6f0e-48b0-9636-a140c49bd222\">\n",
              "    <div class=\"colab-df-container\">\n",
              "      <div>\n",
              "<style scoped>\n",
              "    .dataframe tbody tr th:only-of-type {\n",
              "        vertical-align: middle;\n",
              "    }\n",
              "\n",
              "    .dataframe tbody tr th {\n",
              "        vertical-align: top;\n",
              "    }\n",
              "\n",
              "    .dataframe thead th {\n",
              "        text-align: right;\n",
              "    }\n",
              "</style>\n",
              "<table border=\"1\" class=\"dataframe\">\n",
              "  <thead>\n",
              "    <tr style=\"text-align: right;\">\n",
              "      <th></th>\n",
              "      <th>idem</th>\n",
              "      <th>product_id</th>\n",
              "      <th>client_id</th>\n",
              "      <th>discount</th>\n",
              "      <th>unit_price</th>\n",
              "      <th>quantity</th>\n",
              "      <th>store_id</th>\n",
              "      <th>date</th>\n",
              "      <th>id_temp</th>\n",
              "      <th>mes</th>\n",
              "      <th>liquida</th>\n",
              "    </tr>\n",
              "  </thead>\n",
              "  <tbody>\n",
              "    <tr>\n",
              "      <th>0</th>\n",
              "      <td>3275736da1234f55d52bdf09d86b93bc</td>\n",
              "      <td>001b237c0e9bb435f2e54071129237e93</td>\n",
              "      <td>14001</td>\n",
              "      <td>0.10</td>\n",
              "      <td>162.4</td>\n",
              "      <td>1</td>\n",
              "      <td>4</td>\n",
              "      <td>2019-04-25</td>\n",
              "      <td>5</td>\n",
              "      <td>4</td>\n",
              "      <td>146.160</td>\n",
              "    </tr>\n",
              "    <tr>\n",
              "      <th>1</th>\n",
              "      <td>f3513eec8f1434b5b7e04ddf3598df40</td>\n",
              "      <td>00066f42aeeb9f3007548bb9d3f33c381</td>\n",
              "      <td>14001</td>\n",
              "      <td>0.10</td>\n",
              "      <td>194.6</td>\n",
              "      <td>1</td>\n",
              "      <td>4</td>\n",
              "      <td>2019-07-17</td>\n",
              "      <td>6</td>\n",
              "      <td>7</td>\n",
              "      <td>175.140</td>\n",
              "    </tr>\n",
              "    <tr>\n",
              "      <th>2</th>\n",
              "      <td>76600853a200fe87e141adae6b35674c</td>\n",
              "      <td>00210e41887c2a8ef9f791ebc780cc363</td>\n",
              "      <td>14002</td>\n",
              "      <td>0.10</td>\n",
              "      <td>406.0</td>\n",
              "      <td>1</td>\n",
              "      <td>1</td>\n",
              "      <td>2019-01-21</td>\n",
              "      <td>8</td>\n",
              "      <td>1</td>\n",
              "      <td>365.400</td>\n",
              "    </tr>\n",
              "    <tr>\n",
              "      <th>3</th>\n",
              "      <td>7ab64f42a8f9ab290e920eed320d7e60</td>\n",
              "      <td>002552c0663708129c0019cc97552d7d3</td>\n",
              "      <td>14002</td>\n",
              "      <td>0.10</td>\n",
              "      <td>249.2</td>\n",
              "      <td>1</td>\n",
              "      <td>1</td>\n",
              "      <td>2019-03-28</td>\n",
              "      <td>9</td>\n",
              "      <td>3</td>\n",
              "      <td>224.280</td>\n",
              "    </tr>\n",
              "    <tr>\n",
              "      <th>4</th>\n",
              "      <td>b35a771164a9defa3b4767f1b66918b1</td>\n",
              "      <td>002959d7a0b0990fe2d69988affcbc803</td>\n",
              "      <td>14002</td>\n",
              "      <td>0.08</td>\n",
              "      <td>261.8</td>\n",
              "      <td>1</td>\n",
              "      <td>1</td>\n",
              "      <td>2019-08-14</td>\n",
              "      <td>10</td>\n",
              "      <td>8</td>\n",
              "      <td>240.856</td>\n",
              "    </tr>\n",
              "  </tbody>\n",
              "</table>\n",
              "</div>\n",
              "      <button class=\"colab-df-convert\" onclick=\"convertToInteractive('df-fcd19155-6f0e-48b0-9636-a140c49bd222')\"\n",
              "              title=\"Convert this dataframe to an interactive table.\"\n",
              "              style=\"display:none;\">\n",
              "        \n",
              "  <svg xmlns=\"http://www.w3.org/2000/svg\" height=\"24px\"viewBox=\"0 0 24 24\"\n",
              "       width=\"24px\">\n",
              "    <path d=\"M0 0h24v24H0V0z\" fill=\"none\"/>\n",
              "    <path d=\"M18.56 5.44l.94 2.06.94-2.06 2.06-.94-2.06-.94-.94-2.06-.94 2.06-2.06.94zm-11 1L8.5 8.5l.94-2.06 2.06-.94-2.06-.94L8.5 2.5l-.94 2.06-2.06.94zm10 10l.94 2.06.94-2.06 2.06-.94-2.06-.94-.94-2.06-.94 2.06-2.06.94z\"/><path d=\"M17.41 7.96l-1.37-1.37c-.4-.4-.92-.59-1.43-.59-.52 0-1.04.2-1.43.59L10.3 9.45l-7.72 7.72c-.78.78-.78 2.05 0 2.83L4 21.41c.39.39.9.59 1.41.59.51 0 1.02-.2 1.41-.59l7.78-7.78 2.81-2.81c.8-.78.8-2.07 0-2.86zM5.41 20L4 18.59l7.72-7.72 1.47 1.35L5.41 20z\"/>\n",
              "  </svg>\n",
              "      </button>\n",
              "      \n",
              "  <style>\n",
              "    .colab-df-container {\n",
              "      display:flex;\n",
              "      flex-wrap:wrap;\n",
              "      gap: 12px;\n",
              "    }\n",
              "\n",
              "    .colab-df-convert {\n",
              "      background-color: #E8F0FE;\n",
              "      border: none;\n",
              "      border-radius: 50%;\n",
              "      cursor: pointer;\n",
              "      display: none;\n",
              "      fill: #1967D2;\n",
              "      height: 32px;\n",
              "      padding: 0 0 0 0;\n",
              "      width: 32px;\n",
              "    }\n",
              "\n",
              "    .colab-df-convert:hover {\n",
              "      background-color: #E2EBFA;\n",
              "      box-shadow: 0px 1px 2px rgba(60, 64, 67, 0.3), 0px 1px 3px 1px rgba(60, 64, 67, 0.15);\n",
              "      fill: #174EA6;\n",
              "    }\n",
              "\n",
              "    [theme=dark] .colab-df-convert {\n",
              "      background-color: #3B4455;\n",
              "      fill: #D2E3FC;\n",
              "    }\n",
              "\n",
              "    [theme=dark] .colab-df-convert:hover {\n",
              "      background-color: #434B5C;\n",
              "      box-shadow: 0px 1px 3px 1px rgba(0, 0, 0, 0.15);\n",
              "      filter: drop-shadow(0px 1px 2px rgba(0, 0, 0, 0.3));\n",
              "      fill: #FFFFFF;\n",
              "    }\n",
              "  </style>\n",
              "\n",
              "      <script>\n",
              "        const buttonEl =\n",
              "          document.querySelector('#df-fcd19155-6f0e-48b0-9636-a140c49bd222 button.colab-df-convert');\n",
              "        buttonEl.style.display =\n",
              "          google.colab.kernel.accessAllowed ? 'block' : 'none';\n",
              "\n",
              "        async function convertToInteractive(key) {\n",
              "          const element = document.querySelector('#df-fcd19155-6f0e-48b0-9636-a140c49bd222');\n",
              "          const dataTable =\n",
              "            await google.colab.kernel.invokeFunction('convertToInteractive',\n",
              "                                                     [key], {});\n",
              "          if (!dataTable) return;\n",
              "\n",
              "          const docLinkHtml = 'Like what you see? Visit the ' +\n",
              "            '<a target=\"_blank\" href=https://colab.research.google.com/notebooks/data_table.ipynb>data table notebook</a>'\n",
              "            + ' to learn more about interactive tables.';\n",
              "          element.innerHTML = '';\n",
              "          dataTable['output_type'] = 'display_data';\n",
              "          await google.colab.output.renderOutput(dataTable, element);\n",
              "          const docLink = document.createElement('div');\n",
              "          docLink.innerHTML = docLinkHtml;\n",
              "          element.appendChild(docLink);\n",
              "        }\n",
              "      </script>\n",
              "    </div>\n",
              "  </div>\n",
              "  "
            ]
          },
          "metadata": {},
          "execution_count": 217
        }
      ]
    },
    {
      "cell_type": "code",
      "source": [
        "df_final = pa_pf[['mes','unit_price', 'liquida', 'quantity']].groupby('mes').sum().reset_index()"
      ],
      "metadata": {
        "id": "DNmi5tETntu3"
      },
      "execution_count": 218,
      "outputs": []
    },
    {
      "cell_type": "code",
      "source": [
        "df_final.head()"
      ],
      "metadata": {
        "colab": {
          "base_uri": "https://localhost:8080/",
          "height": 206
        },
        "id": "X5TboUxnpCw1",
        "outputId": "fe28c54a-dda6-40d2-ffb9-fd950a9cf3fe"
      },
      "execution_count": 219,
      "outputs": [
        {
          "output_type": "execute_result",
          "data": {
            "text/plain": [
              "   mes  unit_price    liquida  quantity\n",
              "0    1    224638.4  210849.66      1057\n",
              "1    2    178669.4  168483.42       834\n",
              "2    3    303454.2  285083.82      1186\n",
              "3    4    277320.4  257972.40      1078\n",
              "4    5    300983.2  283353.84      1165"
            ],
            "text/html": [
              "\n",
              "  <div id=\"df-8aaf0af7-1075-4353-95bb-f0b00f33ecb9\">\n",
              "    <div class=\"colab-df-container\">\n",
              "      <div>\n",
              "<style scoped>\n",
              "    .dataframe tbody tr th:only-of-type {\n",
              "        vertical-align: middle;\n",
              "    }\n",
              "\n",
              "    .dataframe tbody tr th {\n",
              "        vertical-align: top;\n",
              "    }\n",
              "\n",
              "    .dataframe thead th {\n",
              "        text-align: right;\n",
              "    }\n",
              "</style>\n",
              "<table border=\"1\" class=\"dataframe\">\n",
              "  <thead>\n",
              "    <tr style=\"text-align: right;\">\n",
              "      <th></th>\n",
              "      <th>mes</th>\n",
              "      <th>unit_price</th>\n",
              "      <th>liquida</th>\n",
              "      <th>quantity</th>\n",
              "    </tr>\n",
              "  </thead>\n",
              "  <tbody>\n",
              "    <tr>\n",
              "      <th>0</th>\n",
              "      <td>1</td>\n",
              "      <td>224638.4</td>\n",
              "      <td>210849.66</td>\n",
              "      <td>1057</td>\n",
              "    </tr>\n",
              "    <tr>\n",
              "      <th>1</th>\n",
              "      <td>2</td>\n",
              "      <td>178669.4</td>\n",
              "      <td>168483.42</td>\n",
              "      <td>834</td>\n",
              "    </tr>\n",
              "    <tr>\n",
              "      <th>2</th>\n",
              "      <td>3</td>\n",
              "      <td>303454.2</td>\n",
              "      <td>285083.82</td>\n",
              "      <td>1186</td>\n",
              "    </tr>\n",
              "    <tr>\n",
              "      <th>3</th>\n",
              "      <td>4</td>\n",
              "      <td>277320.4</td>\n",
              "      <td>257972.40</td>\n",
              "      <td>1078</td>\n",
              "    </tr>\n",
              "    <tr>\n",
              "      <th>4</th>\n",
              "      <td>5</td>\n",
              "      <td>300983.2</td>\n",
              "      <td>283353.84</td>\n",
              "      <td>1165</td>\n",
              "    </tr>\n",
              "  </tbody>\n",
              "</table>\n",
              "</div>\n",
              "      <button class=\"colab-df-convert\" onclick=\"convertToInteractive('df-8aaf0af7-1075-4353-95bb-f0b00f33ecb9')\"\n",
              "              title=\"Convert this dataframe to an interactive table.\"\n",
              "              style=\"display:none;\">\n",
              "        \n",
              "  <svg xmlns=\"http://www.w3.org/2000/svg\" height=\"24px\"viewBox=\"0 0 24 24\"\n",
              "       width=\"24px\">\n",
              "    <path d=\"M0 0h24v24H0V0z\" fill=\"none\"/>\n",
              "    <path d=\"M18.56 5.44l.94 2.06.94-2.06 2.06-.94-2.06-.94-.94-2.06-.94 2.06-2.06.94zm-11 1L8.5 8.5l.94-2.06 2.06-.94-2.06-.94L8.5 2.5l-.94 2.06-2.06.94zm10 10l.94 2.06.94-2.06 2.06-.94-2.06-.94-.94-2.06-.94 2.06-2.06.94z\"/><path d=\"M17.41 7.96l-1.37-1.37c-.4-.4-.92-.59-1.43-.59-.52 0-1.04.2-1.43.59L10.3 9.45l-7.72 7.72c-.78.78-.78 2.05 0 2.83L4 21.41c.39.39.9.59 1.41.59.51 0 1.02-.2 1.41-.59l7.78-7.78 2.81-2.81c.8-.78.8-2.07 0-2.86zM5.41 20L4 18.59l7.72-7.72 1.47 1.35L5.41 20z\"/>\n",
              "  </svg>\n",
              "      </button>\n",
              "      \n",
              "  <style>\n",
              "    .colab-df-container {\n",
              "      display:flex;\n",
              "      flex-wrap:wrap;\n",
              "      gap: 12px;\n",
              "    }\n",
              "\n",
              "    .colab-df-convert {\n",
              "      background-color: #E8F0FE;\n",
              "      border: none;\n",
              "      border-radius: 50%;\n",
              "      cursor: pointer;\n",
              "      display: none;\n",
              "      fill: #1967D2;\n",
              "      height: 32px;\n",
              "      padding: 0 0 0 0;\n",
              "      width: 32px;\n",
              "    }\n",
              "\n",
              "    .colab-df-convert:hover {\n",
              "      background-color: #E2EBFA;\n",
              "      box-shadow: 0px 1px 2px rgba(60, 64, 67, 0.3), 0px 1px 3px 1px rgba(60, 64, 67, 0.15);\n",
              "      fill: #174EA6;\n",
              "    }\n",
              "\n",
              "    [theme=dark] .colab-df-convert {\n",
              "      background-color: #3B4455;\n",
              "      fill: #D2E3FC;\n",
              "    }\n",
              "\n",
              "    [theme=dark] .colab-df-convert:hover {\n",
              "      background-color: #434B5C;\n",
              "      box-shadow: 0px 1px 3px 1px rgba(0, 0, 0, 0.15);\n",
              "      filter: drop-shadow(0px 1px 2px rgba(0, 0, 0, 0.3));\n",
              "      fill: #FFFFFF;\n",
              "    }\n",
              "  </style>\n",
              "\n",
              "      <script>\n",
              "        const buttonEl =\n",
              "          document.querySelector('#df-8aaf0af7-1075-4353-95bb-f0b00f33ecb9 button.colab-df-convert');\n",
              "        buttonEl.style.display =\n",
              "          google.colab.kernel.accessAllowed ? 'block' : 'none';\n",
              "\n",
              "        async function convertToInteractive(key) {\n",
              "          const element = document.querySelector('#df-8aaf0af7-1075-4353-95bb-f0b00f33ecb9');\n",
              "          const dataTable =\n",
              "            await google.colab.kernel.invokeFunction('convertToInteractive',\n",
              "                                                     [key], {});\n",
              "          if (!dataTable) return;\n",
              "\n",
              "          const docLinkHtml = 'Like what you see? Visit the ' +\n",
              "            '<a target=\"_blank\" href=https://colab.research.google.com/notebooks/data_table.ipynb>data table notebook</a>'\n",
              "            + ' to learn more about interactive tables.';\n",
              "          element.innerHTML = '';\n",
              "          dataTable['output_type'] = 'display_data';\n",
              "          await google.colab.output.renderOutput(dataTable, element);\n",
              "          const docLink = document.createElement('div');\n",
              "          docLink.innerHTML = docLinkHtml;\n",
              "          element.appendChild(docLink);\n",
              "        }\n",
              "      </script>\n",
              "    </div>\n",
              "  </div>\n",
              "  "
            ]
          },
          "metadata": {},
          "execution_count": 219
        }
      ]
    },
    {
      "cell_type": "code",
      "source": [
        "df_final.describe()"
      ],
      "metadata": {
        "colab": {
          "base_uri": "https://localhost:8080/",
          "height": 300
        },
        "id": "izfsG_i4312m",
        "outputId": "4d1cbbfa-7326-451f-8c79-424b7d2e45fe"
      },
      "execution_count": 220,
      "outputs": [
        {
          "output_type": "execute_result",
          "data": {
            "text/plain": [
              "             mes     unit_price        liquida     quantity\n",
              "count  12.000000      12.000000      12.000000    12.000000\n",
              "mean    6.500000  309649.200000  294265.094667  1284.333333\n",
              "std     3.605551   99616.642504   99304.561130   431.467124\n",
              "min     1.000000  178669.400000  168483.420000   834.000000\n",
              "25%     3.750000  256883.200000  238564.935000  1049.750000\n",
              "50%     6.500000  273622.300000  257390.910000  1073.500000\n",
              "75%     9.250000  341443.550000  323938.797000  1371.250000\n",
              "max    12.000000  471296.000000  456192.856000  2035.000000"
            ],
            "text/html": [
              "\n",
              "  <div id=\"df-32a7e518-04d2-4254-8733-207198ceb311\">\n",
              "    <div class=\"colab-df-container\">\n",
              "      <div>\n",
              "<style scoped>\n",
              "    .dataframe tbody tr th:only-of-type {\n",
              "        vertical-align: middle;\n",
              "    }\n",
              "\n",
              "    .dataframe tbody tr th {\n",
              "        vertical-align: top;\n",
              "    }\n",
              "\n",
              "    .dataframe thead th {\n",
              "        text-align: right;\n",
              "    }\n",
              "</style>\n",
              "<table border=\"1\" class=\"dataframe\">\n",
              "  <thead>\n",
              "    <tr style=\"text-align: right;\">\n",
              "      <th></th>\n",
              "      <th>mes</th>\n",
              "      <th>unit_price</th>\n",
              "      <th>liquida</th>\n",
              "      <th>quantity</th>\n",
              "    </tr>\n",
              "  </thead>\n",
              "  <tbody>\n",
              "    <tr>\n",
              "      <th>count</th>\n",
              "      <td>12.000000</td>\n",
              "      <td>12.000000</td>\n",
              "      <td>12.000000</td>\n",
              "      <td>12.000000</td>\n",
              "    </tr>\n",
              "    <tr>\n",
              "      <th>mean</th>\n",
              "      <td>6.500000</td>\n",
              "      <td>309649.200000</td>\n",
              "      <td>294265.094667</td>\n",
              "      <td>1284.333333</td>\n",
              "    </tr>\n",
              "    <tr>\n",
              "      <th>std</th>\n",
              "      <td>3.605551</td>\n",
              "      <td>99616.642504</td>\n",
              "      <td>99304.561130</td>\n",
              "      <td>431.467124</td>\n",
              "    </tr>\n",
              "    <tr>\n",
              "      <th>min</th>\n",
              "      <td>1.000000</td>\n",
              "      <td>178669.400000</td>\n",
              "      <td>168483.420000</td>\n",
              "      <td>834.000000</td>\n",
              "    </tr>\n",
              "    <tr>\n",
              "      <th>25%</th>\n",
              "      <td>3.750000</td>\n",
              "      <td>256883.200000</td>\n",
              "      <td>238564.935000</td>\n",
              "      <td>1049.750000</td>\n",
              "    </tr>\n",
              "    <tr>\n",
              "      <th>50%</th>\n",
              "      <td>6.500000</td>\n",
              "      <td>273622.300000</td>\n",
              "      <td>257390.910000</td>\n",
              "      <td>1073.500000</td>\n",
              "    </tr>\n",
              "    <tr>\n",
              "      <th>75%</th>\n",
              "      <td>9.250000</td>\n",
              "      <td>341443.550000</td>\n",
              "      <td>323938.797000</td>\n",
              "      <td>1371.250000</td>\n",
              "    </tr>\n",
              "    <tr>\n",
              "      <th>max</th>\n",
              "      <td>12.000000</td>\n",
              "      <td>471296.000000</td>\n",
              "      <td>456192.856000</td>\n",
              "      <td>2035.000000</td>\n",
              "    </tr>\n",
              "  </tbody>\n",
              "</table>\n",
              "</div>\n",
              "      <button class=\"colab-df-convert\" onclick=\"convertToInteractive('df-32a7e518-04d2-4254-8733-207198ceb311')\"\n",
              "              title=\"Convert this dataframe to an interactive table.\"\n",
              "              style=\"display:none;\">\n",
              "        \n",
              "  <svg xmlns=\"http://www.w3.org/2000/svg\" height=\"24px\"viewBox=\"0 0 24 24\"\n",
              "       width=\"24px\">\n",
              "    <path d=\"M0 0h24v24H0V0z\" fill=\"none\"/>\n",
              "    <path d=\"M18.56 5.44l.94 2.06.94-2.06 2.06-.94-2.06-.94-.94-2.06-.94 2.06-2.06.94zm-11 1L8.5 8.5l.94-2.06 2.06-.94-2.06-.94L8.5 2.5l-.94 2.06-2.06.94zm10 10l.94 2.06.94-2.06 2.06-.94-2.06-.94-.94-2.06-.94 2.06-2.06.94z\"/><path d=\"M17.41 7.96l-1.37-1.37c-.4-.4-.92-.59-1.43-.59-.52 0-1.04.2-1.43.59L10.3 9.45l-7.72 7.72c-.78.78-.78 2.05 0 2.83L4 21.41c.39.39.9.59 1.41.59.51 0 1.02-.2 1.41-.59l7.78-7.78 2.81-2.81c.8-.78.8-2.07 0-2.86zM5.41 20L4 18.59l7.72-7.72 1.47 1.35L5.41 20z\"/>\n",
              "  </svg>\n",
              "      </button>\n",
              "      \n",
              "  <style>\n",
              "    .colab-df-container {\n",
              "      display:flex;\n",
              "      flex-wrap:wrap;\n",
              "      gap: 12px;\n",
              "    }\n",
              "\n",
              "    .colab-df-convert {\n",
              "      background-color: #E8F0FE;\n",
              "      border: none;\n",
              "      border-radius: 50%;\n",
              "      cursor: pointer;\n",
              "      display: none;\n",
              "      fill: #1967D2;\n",
              "      height: 32px;\n",
              "      padding: 0 0 0 0;\n",
              "      width: 32px;\n",
              "    }\n",
              "\n",
              "    .colab-df-convert:hover {\n",
              "      background-color: #E2EBFA;\n",
              "      box-shadow: 0px 1px 2px rgba(60, 64, 67, 0.3), 0px 1px 3px 1px rgba(60, 64, 67, 0.15);\n",
              "      fill: #174EA6;\n",
              "    }\n",
              "\n",
              "    [theme=dark] .colab-df-convert {\n",
              "      background-color: #3B4455;\n",
              "      fill: #D2E3FC;\n",
              "    }\n",
              "\n",
              "    [theme=dark] .colab-df-convert:hover {\n",
              "      background-color: #434B5C;\n",
              "      box-shadow: 0px 1px 3px 1px rgba(0, 0, 0, 0.15);\n",
              "      filter: drop-shadow(0px 1px 2px rgba(0, 0, 0, 0.3));\n",
              "      fill: #FFFFFF;\n",
              "    }\n",
              "  </style>\n",
              "\n",
              "      <script>\n",
              "        const buttonEl =\n",
              "          document.querySelector('#df-32a7e518-04d2-4254-8733-207198ceb311 button.colab-df-convert');\n",
              "        buttonEl.style.display =\n",
              "          google.colab.kernel.accessAllowed ? 'block' : 'none';\n",
              "\n",
              "        async function convertToInteractive(key) {\n",
              "          const element = document.querySelector('#df-32a7e518-04d2-4254-8733-207198ceb311');\n",
              "          const dataTable =\n",
              "            await google.colab.kernel.invokeFunction('convertToInteractive',\n",
              "                                                     [key], {});\n",
              "          if (!dataTable) return;\n",
              "\n",
              "          const docLinkHtml = 'Like what you see? Visit the ' +\n",
              "            '<a target=\"_blank\" href=https://colab.research.google.com/notebooks/data_table.ipynb>data table notebook</a>'\n",
              "            + ' to learn more about interactive tables.';\n",
              "          element.innerHTML = '';\n",
              "          dataTable['output_type'] = 'display_data';\n",
              "          await google.colab.output.renderOutput(dataTable, element);\n",
              "          const docLink = document.createElement('div');\n",
              "          docLink.innerHTML = docLinkHtml;\n",
              "          element.appendChild(docLink);\n",
              "        }\n",
              "      </script>\n",
              "    </div>\n",
              "  </div>\n",
              "  "
            ]
          },
          "metadata": {},
          "execution_count": 220
        }
      ]
    },
    {
      "cell_type": "code",
      "source": [
        "df_final_09 = pa_pf[['store_id', 'unit_price', 'liquida', 'quantity']].groupby('store_id').sum().reset_index()"
      ],
      "metadata": {
        "id": "M1oXm_NE4_Ge"
      },
      "execution_count": 221,
      "outputs": []
    },
    {
      "cell_type": "code",
      "source": [
        "df_final_09.describe()"
      ],
      "metadata": {
        "colab": {
          "base_uri": "https://localhost:8080/",
          "height": 300
        },
        "id": "xwoEAXMr5Vnv",
        "outputId": "6a9b39fe-428e-44a6-a0a6-3e37d77f4216"
      },
      "execution_count": 222,
      "outputs": [
        {
          "output_type": "execute_result",
          "data": {
            "text/plain": [
              "         unit_price        liquida     quantity\n",
              "count       7.00000       7.000000     7.000000\n",
              "mean   530827.20000  504454.448000  2201.714286\n",
              "std    305375.68204  290947.120527  1272.009921\n",
              "min    107962.40000  102130.784000   444.000000\n",
              "25%    303950.50000  288585.164000  1262.000000\n",
              "50%    590185.40000  560306.096000  2401.000000\n",
              "75%    732412.10000  695728.684000  3057.500000\n",
              "max    944917.40000  900116.560000  3928.000000"
            ],
            "text/html": [
              "\n",
              "  <div id=\"df-334c2e81-18df-4e35-8d1a-4c7dfd7e67ac\">\n",
              "    <div class=\"colab-df-container\">\n",
              "      <div>\n",
              "<style scoped>\n",
              "    .dataframe tbody tr th:only-of-type {\n",
              "        vertical-align: middle;\n",
              "    }\n",
              "\n",
              "    .dataframe tbody tr th {\n",
              "        vertical-align: top;\n",
              "    }\n",
              "\n",
              "    .dataframe thead th {\n",
              "        text-align: right;\n",
              "    }\n",
              "</style>\n",
              "<table border=\"1\" class=\"dataframe\">\n",
              "  <thead>\n",
              "    <tr style=\"text-align: right;\">\n",
              "      <th></th>\n",
              "      <th>unit_price</th>\n",
              "      <th>liquida</th>\n",
              "      <th>quantity</th>\n",
              "    </tr>\n",
              "  </thead>\n",
              "  <tbody>\n",
              "    <tr>\n",
              "      <th>count</th>\n",
              "      <td>7.00000</td>\n",
              "      <td>7.000000</td>\n",
              "      <td>7.000000</td>\n",
              "    </tr>\n",
              "    <tr>\n",
              "      <th>mean</th>\n",
              "      <td>530827.20000</td>\n",
              "      <td>504454.448000</td>\n",
              "      <td>2201.714286</td>\n",
              "    </tr>\n",
              "    <tr>\n",
              "      <th>std</th>\n",
              "      <td>305375.68204</td>\n",
              "      <td>290947.120527</td>\n",
              "      <td>1272.009921</td>\n",
              "    </tr>\n",
              "    <tr>\n",
              "      <th>min</th>\n",
              "      <td>107962.40000</td>\n",
              "      <td>102130.784000</td>\n",
              "      <td>444.000000</td>\n",
              "    </tr>\n",
              "    <tr>\n",
              "      <th>25%</th>\n",
              "      <td>303950.50000</td>\n",
              "      <td>288585.164000</td>\n",
              "      <td>1262.000000</td>\n",
              "    </tr>\n",
              "    <tr>\n",
              "      <th>50%</th>\n",
              "      <td>590185.40000</td>\n",
              "      <td>560306.096000</td>\n",
              "      <td>2401.000000</td>\n",
              "    </tr>\n",
              "    <tr>\n",
              "      <th>75%</th>\n",
              "      <td>732412.10000</td>\n",
              "      <td>695728.684000</td>\n",
              "      <td>3057.500000</td>\n",
              "    </tr>\n",
              "    <tr>\n",
              "      <th>max</th>\n",
              "      <td>944917.40000</td>\n",
              "      <td>900116.560000</td>\n",
              "      <td>3928.000000</td>\n",
              "    </tr>\n",
              "  </tbody>\n",
              "</table>\n",
              "</div>\n",
              "      <button class=\"colab-df-convert\" onclick=\"convertToInteractive('df-334c2e81-18df-4e35-8d1a-4c7dfd7e67ac')\"\n",
              "              title=\"Convert this dataframe to an interactive table.\"\n",
              "              style=\"display:none;\">\n",
              "        \n",
              "  <svg xmlns=\"http://www.w3.org/2000/svg\" height=\"24px\"viewBox=\"0 0 24 24\"\n",
              "       width=\"24px\">\n",
              "    <path d=\"M0 0h24v24H0V0z\" fill=\"none\"/>\n",
              "    <path d=\"M18.56 5.44l.94 2.06.94-2.06 2.06-.94-2.06-.94-.94-2.06-.94 2.06-2.06.94zm-11 1L8.5 8.5l.94-2.06 2.06-.94-2.06-.94L8.5 2.5l-.94 2.06-2.06.94zm10 10l.94 2.06.94-2.06 2.06-.94-2.06-.94-.94-2.06-.94 2.06-2.06.94z\"/><path d=\"M17.41 7.96l-1.37-1.37c-.4-.4-.92-.59-1.43-.59-.52 0-1.04.2-1.43.59L10.3 9.45l-7.72 7.72c-.78.78-.78 2.05 0 2.83L4 21.41c.39.39.9.59 1.41.59.51 0 1.02-.2 1.41-.59l7.78-7.78 2.81-2.81c.8-.78.8-2.07 0-2.86zM5.41 20L4 18.59l7.72-7.72 1.47 1.35L5.41 20z\"/>\n",
              "  </svg>\n",
              "      </button>\n",
              "      \n",
              "  <style>\n",
              "    .colab-df-container {\n",
              "      display:flex;\n",
              "      flex-wrap:wrap;\n",
              "      gap: 12px;\n",
              "    }\n",
              "\n",
              "    .colab-df-convert {\n",
              "      background-color: #E8F0FE;\n",
              "      border: none;\n",
              "      border-radius: 50%;\n",
              "      cursor: pointer;\n",
              "      display: none;\n",
              "      fill: #1967D2;\n",
              "      height: 32px;\n",
              "      padding: 0 0 0 0;\n",
              "      width: 32px;\n",
              "    }\n",
              "\n",
              "    .colab-df-convert:hover {\n",
              "      background-color: #E2EBFA;\n",
              "      box-shadow: 0px 1px 2px rgba(60, 64, 67, 0.3), 0px 1px 3px 1px rgba(60, 64, 67, 0.15);\n",
              "      fill: #174EA6;\n",
              "    }\n",
              "\n",
              "    [theme=dark] .colab-df-convert {\n",
              "      background-color: #3B4455;\n",
              "      fill: #D2E3FC;\n",
              "    }\n",
              "\n",
              "    [theme=dark] .colab-df-convert:hover {\n",
              "      background-color: #434B5C;\n",
              "      box-shadow: 0px 1px 3px 1px rgba(0, 0, 0, 0.15);\n",
              "      filter: drop-shadow(0px 1px 2px rgba(0, 0, 0, 0.3));\n",
              "      fill: #FFFFFF;\n",
              "    }\n",
              "  </style>\n",
              "\n",
              "      <script>\n",
              "        const buttonEl =\n",
              "          document.querySelector('#df-334c2e81-18df-4e35-8d1a-4c7dfd7e67ac button.colab-df-convert');\n",
              "        buttonEl.style.display =\n",
              "          google.colab.kernel.accessAllowed ? 'block' : 'none';\n",
              "\n",
              "        async function convertToInteractive(key) {\n",
              "          const element = document.querySelector('#df-334c2e81-18df-4e35-8d1a-4c7dfd7e67ac');\n",
              "          const dataTable =\n",
              "            await google.colab.kernel.invokeFunction('convertToInteractive',\n",
              "                                                     [key], {});\n",
              "          if (!dataTable) return;\n",
              "\n",
              "          const docLinkHtml = 'Like what you see? Visit the ' +\n",
              "            '<a target=\"_blank\" href=https://colab.research.google.com/notebooks/data_table.ipynb>data table notebook</a>'\n",
              "            + ' to learn more about interactive tables.';\n",
              "          element.innerHTML = '';\n",
              "          dataTable['output_type'] = 'display_data';\n",
              "          await google.colab.output.renderOutput(dataTable, element);\n",
              "          const docLink = document.createElement('div');\n",
              "          docLink.innerHTML = docLinkHtml;\n",
              "          element.appendChild(docLink);\n",
              "        }\n",
              "      </script>\n",
              "    </div>\n",
              "  </div>\n",
              "  "
            ]
          },
          "metadata": {},
          "execution_count": 222
        }
      ]
    },
    {
      "cell_type": "code",
      "source": [
        "display(df_final_09)"
      ],
      "metadata": {
        "colab": {
          "base_uri": "https://localhost:8080/",
          "height": 269
        },
        "id": "t6V1R6UP5jgX",
        "outputId": "61ed4664-c7df-4a9c-bce0-9c2394525b5f"
      },
      "execution_count": 225,
      "outputs": [
        {
          "output_type": "display_data",
          "data": {
            "text/plain": [
              "  store_id  unit_price     liquida  quantity\n",
              "0        1    944917.4  900116.560      3928\n",
              "1        2    760799.2  723401.616      3180\n",
              "2       22    107962.4  102130.784       444\n",
              "3        3    704025.0  668055.752      2935\n",
              "4        4    590185.4  560306.096      2401\n",
              "5        7    403666.2  384675.676      1673\n",
              "6        9    204234.8  192494.652       851"
            ],
            "text/html": [
              "\n",
              "  <div id=\"df-f05b9ee3-4718-44f3-ae02-ea512f876041\">\n",
              "    <div class=\"colab-df-container\">\n",
              "      <div>\n",
              "<style scoped>\n",
              "    .dataframe tbody tr th:only-of-type {\n",
              "        vertical-align: middle;\n",
              "    }\n",
              "\n",
              "    .dataframe tbody tr th {\n",
              "        vertical-align: top;\n",
              "    }\n",
              "\n",
              "    .dataframe thead th {\n",
              "        text-align: right;\n",
              "    }\n",
              "</style>\n",
              "<table border=\"1\" class=\"dataframe\">\n",
              "  <thead>\n",
              "    <tr style=\"text-align: right;\">\n",
              "      <th></th>\n",
              "      <th>store_id</th>\n",
              "      <th>unit_price</th>\n",
              "      <th>liquida</th>\n",
              "      <th>quantity</th>\n",
              "    </tr>\n",
              "  </thead>\n",
              "  <tbody>\n",
              "    <tr>\n",
              "      <th>0</th>\n",
              "      <td>1</td>\n",
              "      <td>944917.4</td>\n",
              "      <td>900116.560</td>\n",
              "      <td>3928</td>\n",
              "    </tr>\n",
              "    <tr>\n",
              "      <th>1</th>\n",
              "      <td>2</td>\n",
              "      <td>760799.2</td>\n",
              "      <td>723401.616</td>\n",
              "      <td>3180</td>\n",
              "    </tr>\n",
              "    <tr>\n",
              "      <th>2</th>\n",
              "      <td>22</td>\n",
              "      <td>107962.4</td>\n",
              "      <td>102130.784</td>\n",
              "      <td>444</td>\n",
              "    </tr>\n",
              "    <tr>\n",
              "      <th>3</th>\n",
              "      <td>3</td>\n",
              "      <td>704025.0</td>\n",
              "      <td>668055.752</td>\n",
              "      <td>2935</td>\n",
              "    </tr>\n",
              "    <tr>\n",
              "      <th>4</th>\n",
              "      <td>4</td>\n",
              "      <td>590185.4</td>\n",
              "      <td>560306.096</td>\n",
              "      <td>2401</td>\n",
              "    </tr>\n",
              "    <tr>\n",
              "      <th>5</th>\n",
              "      <td>7</td>\n",
              "      <td>403666.2</td>\n",
              "      <td>384675.676</td>\n",
              "      <td>1673</td>\n",
              "    </tr>\n",
              "    <tr>\n",
              "      <th>6</th>\n",
              "      <td>9</td>\n",
              "      <td>204234.8</td>\n",
              "      <td>192494.652</td>\n",
              "      <td>851</td>\n",
              "    </tr>\n",
              "  </tbody>\n",
              "</table>\n",
              "</div>\n",
              "      <button class=\"colab-df-convert\" onclick=\"convertToInteractive('df-f05b9ee3-4718-44f3-ae02-ea512f876041')\"\n",
              "              title=\"Convert this dataframe to an interactive table.\"\n",
              "              style=\"display:none;\">\n",
              "        \n",
              "  <svg xmlns=\"http://www.w3.org/2000/svg\" height=\"24px\"viewBox=\"0 0 24 24\"\n",
              "       width=\"24px\">\n",
              "    <path d=\"M0 0h24v24H0V0z\" fill=\"none\"/>\n",
              "    <path d=\"M18.56 5.44l.94 2.06.94-2.06 2.06-.94-2.06-.94-.94-2.06-.94 2.06-2.06.94zm-11 1L8.5 8.5l.94-2.06 2.06-.94-2.06-.94L8.5 2.5l-.94 2.06-2.06.94zm10 10l.94 2.06.94-2.06 2.06-.94-2.06-.94-.94-2.06-.94 2.06-2.06.94z\"/><path d=\"M17.41 7.96l-1.37-1.37c-.4-.4-.92-.59-1.43-.59-.52 0-1.04.2-1.43.59L10.3 9.45l-7.72 7.72c-.78.78-.78 2.05 0 2.83L4 21.41c.39.39.9.59 1.41.59.51 0 1.02-.2 1.41-.59l7.78-7.78 2.81-2.81c.8-.78.8-2.07 0-2.86zM5.41 20L4 18.59l7.72-7.72 1.47 1.35L5.41 20z\"/>\n",
              "  </svg>\n",
              "      </button>\n",
              "      \n",
              "  <style>\n",
              "    .colab-df-container {\n",
              "      display:flex;\n",
              "      flex-wrap:wrap;\n",
              "      gap: 12px;\n",
              "    }\n",
              "\n",
              "    .colab-df-convert {\n",
              "      background-color: #E8F0FE;\n",
              "      border: none;\n",
              "      border-radius: 50%;\n",
              "      cursor: pointer;\n",
              "      display: none;\n",
              "      fill: #1967D2;\n",
              "      height: 32px;\n",
              "      padding: 0 0 0 0;\n",
              "      width: 32px;\n",
              "    }\n",
              "\n",
              "    .colab-df-convert:hover {\n",
              "      background-color: #E2EBFA;\n",
              "      box-shadow: 0px 1px 2px rgba(60, 64, 67, 0.3), 0px 1px 3px 1px rgba(60, 64, 67, 0.15);\n",
              "      fill: #174EA6;\n",
              "    }\n",
              "\n",
              "    [theme=dark] .colab-df-convert {\n",
              "      background-color: #3B4455;\n",
              "      fill: #D2E3FC;\n",
              "    }\n",
              "\n",
              "    [theme=dark] .colab-df-convert:hover {\n",
              "      background-color: #434B5C;\n",
              "      box-shadow: 0px 1px 3px 1px rgba(0, 0, 0, 0.15);\n",
              "      filter: drop-shadow(0px 1px 2px rgba(0, 0, 0, 0.3));\n",
              "      fill: #FFFFFF;\n",
              "    }\n",
              "  </style>\n",
              "\n",
              "      <script>\n",
              "        const buttonEl =\n",
              "          document.querySelector('#df-f05b9ee3-4718-44f3-ae02-ea512f876041 button.colab-df-convert');\n",
              "        buttonEl.style.display =\n",
              "          google.colab.kernel.accessAllowed ? 'block' : 'none';\n",
              "\n",
              "        async function convertToInteractive(key) {\n",
              "          const element = document.querySelector('#df-f05b9ee3-4718-44f3-ae02-ea512f876041');\n",
              "          const dataTable =\n",
              "            await google.colab.kernel.invokeFunction('convertToInteractive',\n",
              "                                                     [key], {});\n",
              "          if (!dataTable) return;\n",
              "\n",
              "          const docLinkHtml = 'Like what you see? Visit the ' +\n",
              "            '<a target=\"_blank\" href=https://colab.research.google.com/notebooks/data_table.ipynb>data table notebook</a>'\n",
              "            + ' to learn more about interactive tables.';\n",
              "          element.innerHTML = '';\n",
              "          dataTable['output_type'] = 'display_data';\n",
              "          await google.colab.output.renderOutput(dataTable, element);\n",
              "          const docLink = document.createElement('div');\n",
              "          docLink.innerHTML = docLinkHtml;\n",
              "          element.appendChild(docLink);\n",
              "        }\n",
              "      </script>\n",
              "    </div>\n",
              "  </div>\n",
              "  "
            ]
          },
          "metadata": {}
        }
      ]
    },
    {
      "cell_type": "markdown",
      "source": [],
      "metadata": {
        "id": "cso9gN2Id5_1"
      }
    },
    {
      "cell_type": "code",
      "source": [
        "type(pa_pf['discount'])"
      ],
      "metadata": {
        "colab": {
          "base_uri": "https://localhost:8080/"
        },
        "id": "pNOrKjmZdKF7",
        "outputId": "bec092e1-ca07-4f1f-fbc7-1b15df8ff0bb"
      },
      "execution_count": 167,
      "outputs": [
        {
          "output_type": "execute_result",
          "data": {
            "text/plain": [
              "pandas.core.series.Series"
            ]
          },
          "metadata": {},
          "execution_count": 167
        }
      ]
    },
    {
      "cell_type": "code",
      "source": [
        "df_final['liquida'] = (df_final['quantity'] * df_final['unit_price']) - df_final['discount'] * (df_final['quantity'] * df_final['discount'])"
      ],
      "metadata": {
        "id": "9hmYbMOUZuaT"
      },
      "execution_count": 190,
      "outputs": []
    },
    {
      "cell_type": "code",
      "source": [
        "df_final.head()"
      ],
      "metadata": {
        "colab": {
          "base_uri": "https://localhost:8080/",
          "height": 206
        },
        "id": "ACxmUEAfzD2u",
        "outputId": "83ce037c-00ca-4e16-f07b-636c8b8c0079"
      },
      "execution_count": 193,
      "outputs": [
        {
          "output_type": "execute_result",
          "data": {
            "text/plain": [
              "   mes  unit_price  discount  quantity       liquida\n",
              "0    1    224638.4     101.2      1057  2.266176e+08\n",
              "1    2    178669.4      80.0       834  1.436727e+08\n",
              "2    3    303454.2     115.1      1186  3.441845e+08\n",
              "3    4    277320.4     104.2      1078  2.872469e+08\n",
              "4    5    300983.2     111.9      1165  3.360578e+08"
            ],
            "text/html": [
              "\n",
              "  <div id=\"df-84d963ef-c1be-4af1-be8d-c27fad28417b\">\n",
              "    <div class=\"colab-df-container\">\n",
              "      <div>\n",
              "<style scoped>\n",
              "    .dataframe tbody tr th:only-of-type {\n",
              "        vertical-align: middle;\n",
              "    }\n",
              "\n",
              "    .dataframe tbody tr th {\n",
              "        vertical-align: top;\n",
              "    }\n",
              "\n",
              "    .dataframe thead th {\n",
              "        text-align: right;\n",
              "    }\n",
              "</style>\n",
              "<table border=\"1\" class=\"dataframe\">\n",
              "  <thead>\n",
              "    <tr style=\"text-align: right;\">\n",
              "      <th></th>\n",
              "      <th>mes</th>\n",
              "      <th>unit_price</th>\n",
              "      <th>discount</th>\n",
              "      <th>quantity</th>\n",
              "      <th>liquida</th>\n",
              "    </tr>\n",
              "  </thead>\n",
              "  <tbody>\n",
              "    <tr>\n",
              "      <th>0</th>\n",
              "      <td>1</td>\n",
              "      <td>224638.4</td>\n",
              "      <td>101.2</td>\n",
              "      <td>1057</td>\n",
              "      <td>2.266176e+08</td>\n",
              "    </tr>\n",
              "    <tr>\n",
              "      <th>1</th>\n",
              "      <td>2</td>\n",
              "      <td>178669.4</td>\n",
              "      <td>80.0</td>\n",
              "      <td>834</td>\n",
              "      <td>1.436727e+08</td>\n",
              "    </tr>\n",
              "    <tr>\n",
              "      <th>2</th>\n",
              "      <td>3</td>\n",
              "      <td>303454.2</td>\n",
              "      <td>115.1</td>\n",
              "      <td>1186</td>\n",
              "      <td>3.441845e+08</td>\n",
              "    </tr>\n",
              "    <tr>\n",
              "      <th>3</th>\n",
              "      <td>4</td>\n",
              "      <td>277320.4</td>\n",
              "      <td>104.2</td>\n",
              "      <td>1078</td>\n",
              "      <td>2.872469e+08</td>\n",
              "    </tr>\n",
              "    <tr>\n",
              "      <th>4</th>\n",
              "      <td>5</td>\n",
              "      <td>300983.2</td>\n",
              "      <td>111.9</td>\n",
              "      <td>1165</td>\n",
              "      <td>3.360578e+08</td>\n",
              "    </tr>\n",
              "  </tbody>\n",
              "</table>\n",
              "</div>\n",
              "      <button class=\"colab-df-convert\" onclick=\"convertToInteractive('df-84d963ef-c1be-4af1-be8d-c27fad28417b')\"\n",
              "              title=\"Convert this dataframe to an interactive table.\"\n",
              "              style=\"display:none;\">\n",
              "        \n",
              "  <svg xmlns=\"http://www.w3.org/2000/svg\" height=\"24px\"viewBox=\"0 0 24 24\"\n",
              "       width=\"24px\">\n",
              "    <path d=\"M0 0h24v24H0V0z\" fill=\"none\"/>\n",
              "    <path d=\"M18.56 5.44l.94 2.06.94-2.06 2.06-.94-2.06-.94-.94-2.06-.94 2.06-2.06.94zm-11 1L8.5 8.5l.94-2.06 2.06-.94-2.06-.94L8.5 2.5l-.94 2.06-2.06.94zm10 10l.94 2.06.94-2.06 2.06-.94-2.06-.94-.94-2.06-.94 2.06-2.06.94z\"/><path d=\"M17.41 7.96l-1.37-1.37c-.4-.4-.92-.59-1.43-.59-.52 0-1.04.2-1.43.59L10.3 9.45l-7.72 7.72c-.78.78-.78 2.05 0 2.83L4 21.41c.39.39.9.59 1.41.59.51 0 1.02-.2 1.41-.59l7.78-7.78 2.81-2.81c.8-.78.8-2.07 0-2.86zM5.41 20L4 18.59l7.72-7.72 1.47 1.35L5.41 20z\"/>\n",
              "  </svg>\n",
              "      </button>\n",
              "      \n",
              "  <style>\n",
              "    .colab-df-container {\n",
              "      display:flex;\n",
              "      flex-wrap:wrap;\n",
              "      gap: 12px;\n",
              "    }\n",
              "\n",
              "    .colab-df-convert {\n",
              "      background-color: #E8F0FE;\n",
              "      border: none;\n",
              "      border-radius: 50%;\n",
              "      cursor: pointer;\n",
              "      display: none;\n",
              "      fill: #1967D2;\n",
              "      height: 32px;\n",
              "      padding: 0 0 0 0;\n",
              "      width: 32px;\n",
              "    }\n",
              "\n",
              "    .colab-df-convert:hover {\n",
              "      background-color: #E2EBFA;\n",
              "      box-shadow: 0px 1px 2px rgba(60, 64, 67, 0.3), 0px 1px 3px 1px rgba(60, 64, 67, 0.15);\n",
              "      fill: #174EA6;\n",
              "    }\n",
              "\n",
              "    [theme=dark] .colab-df-convert {\n",
              "      background-color: #3B4455;\n",
              "      fill: #D2E3FC;\n",
              "    }\n",
              "\n",
              "    [theme=dark] .colab-df-convert:hover {\n",
              "      background-color: #434B5C;\n",
              "      box-shadow: 0px 1px 3px 1px rgba(0, 0, 0, 0.15);\n",
              "      filter: drop-shadow(0px 1px 2px rgba(0, 0, 0, 0.3));\n",
              "      fill: #FFFFFF;\n",
              "    }\n",
              "  </style>\n",
              "\n",
              "      <script>\n",
              "        const buttonEl =\n",
              "          document.querySelector('#df-84d963ef-c1be-4af1-be8d-c27fad28417b button.colab-df-convert');\n",
              "        buttonEl.style.display =\n",
              "          google.colab.kernel.accessAllowed ? 'block' : 'none';\n",
              "\n",
              "        async function convertToInteractive(key) {\n",
              "          const element = document.querySelector('#df-84d963ef-c1be-4af1-be8d-c27fad28417b');\n",
              "          const dataTable =\n",
              "            await google.colab.kernel.invokeFunction('convertToInteractive',\n",
              "                                                     [key], {});\n",
              "          if (!dataTable) return;\n",
              "\n",
              "          const docLinkHtml = 'Like what you see? Visit the ' +\n",
              "            '<a target=\"_blank\" href=https://colab.research.google.com/notebooks/data_table.ipynb>data table notebook</a>'\n",
              "            + ' to learn more about interactive tables.';\n",
              "          element.innerHTML = '';\n",
              "          dataTable['output_type'] = 'display_data';\n",
              "          await google.colab.output.renderOutput(dataTable, element);\n",
              "          const docLink = document.createElement('div');\n",
              "          docLink.innerHTML = docLinkHtml;\n",
              "          element.appendChild(docLink);\n",
              "        }\n",
              "      </script>\n",
              "    </div>\n",
              "  </div>\n",
              "  "
            ]
          },
          "metadata": {},
          "execution_count": 193
        }
      ]
    },
    {
      "cell_type": "code",
      "source": [
        "df.mean(pa_pf) #Por padrão o mean no pandas faz a média das linhas"
      ],
      "metadata": {
        "id": "pkk3Q_cBZglM"
      },
      "execution_count": null,
      "outputs": []
    },
    {
      "cell_type": "code",
      "source": [
        "pa_pf.sort_values(by = 'date', inplace = True)"
      ],
      "metadata": {
        "id": "Ew6BuVAHTavs"
      },
      "execution_count": 138,
      "outputs": []
    },
    {
      "cell_type": "code",
      "source": [
        "df_final.describe()"
      ],
      "metadata": {
        "colab": {
          "base_uri": "https://localhost:8080/",
          "height": 300
        },
        "id": "Fm-Y1RvgP4vb",
        "outputId": "75bc4ed4-f582-4deb-f6d1-07dd99d1ec3c"
      },
      "execution_count": 191,
      "outputs": [
        {
          "output_type": "execute_result",
          "data": {
            "text/plain": [
              "             mes     unit_price    discount     quantity       liquida\n",
              "count  12.000000      12.000000   12.000000    12.000000  1.200000e+01\n",
              "mean    6.500000  309649.200000  113.621667  1284.333333  4.168981e+08\n",
              "std     3.605551   99616.642504   24.317726   431.467124  2.829750e+08\n",
              "min     1.000000  178669.400000   80.000000   834.000000  1.436727e+08\n",
              "25%     3.750000  256883.200000  100.975000  1049.750000  2.523908e+08\n",
              "50%     6.500000  273622.300000  103.950000  1073.500000  2.821750e+08\n",
              "75%     9.250000  341443.550000  123.025000  1371.250000  4.671511e+08\n",
              "max    12.000000  471296.000000  153.760000  2035.000000  9.050497e+08"
            ],
            "text/html": [
              "\n",
              "  <div id=\"df-bce95a8d-71ce-4902-823d-190e239d3eb4\">\n",
              "    <div class=\"colab-df-container\">\n",
              "      <div>\n",
              "<style scoped>\n",
              "    .dataframe tbody tr th:only-of-type {\n",
              "        vertical-align: middle;\n",
              "    }\n",
              "\n",
              "    .dataframe tbody tr th {\n",
              "        vertical-align: top;\n",
              "    }\n",
              "\n",
              "    .dataframe thead th {\n",
              "        text-align: right;\n",
              "    }\n",
              "</style>\n",
              "<table border=\"1\" class=\"dataframe\">\n",
              "  <thead>\n",
              "    <tr style=\"text-align: right;\">\n",
              "      <th></th>\n",
              "      <th>mes</th>\n",
              "      <th>unit_price</th>\n",
              "      <th>discount</th>\n",
              "      <th>quantity</th>\n",
              "      <th>liquida</th>\n",
              "    </tr>\n",
              "  </thead>\n",
              "  <tbody>\n",
              "    <tr>\n",
              "      <th>count</th>\n",
              "      <td>12.000000</td>\n",
              "      <td>12.000000</td>\n",
              "      <td>12.000000</td>\n",
              "      <td>12.000000</td>\n",
              "      <td>1.200000e+01</td>\n",
              "    </tr>\n",
              "    <tr>\n",
              "      <th>mean</th>\n",
              "      <td>6.500000</td>\n",
              "      <td>309649.200000</td>\n",
              "      <td>113.621667</td>\n",
              "      <td>1284.333333</td>\n",
              "      <td>4.168981e+08</td>\n",
              "    </tr>\n",
              "    <tr>\n",
              "      <th>std</th>\n",
              "      <td>3.605551</td>\n",
              "      <td>99616.642504</td>\n",
              "      <td>24.317726</td>\n",
              "      <td>431.467124</td>\n",
              "      <td>2.829750e+08</td>\n",
              "    </tr>\n",
              "    <tr>\n",
              "      <th>min</th>\n",
              "      <td>1.000000</td>\n",
              "      <td>178669.400000</td>\n",
              "      <td>80.000000</td>\n",
              "      <td>834.000000</td>\n",
              "      <td>1.436727e+08</td>\n",
              "    </tr>\n",
              "    <tr>\n",
              "      <th>25%</th>\n",
              "      <td>3.750000</td>\n",
              "      <td>256883.200000</td>\n",
              "      <td>100.975000</td>\n",
              "      <td>1049.750000</td>\n",
              "      <td>2.523908e+08</td>\n",
              "    </tr>\n",
              "    <tr>\n",
              "      <th>50%</th>\n",
              "      <td>6.500000</td>\n",
              "      <td>273622.300000</td>\n",
              "      <td>103.950000</td>\n",
              "      <td>1073.500000</td>\n",
              "      <td>2.821750e+08</td>\n",
              "    </tr>\n",
              "    <tr>\n",
              "      <th>75%</th>\n",
              "      <td>9.250000</td>\n",
              "      <td>341443.550000</td>\n",
              "      <td>123.025000</td>\n",
              "      <td>1371.250000</td>\n",
              "      <td>4.671511e+08</td>\n",
              "    </tr>\n",
              "    <tr>\n",
              "      <th>max</th>\n",
              "      <td>12.000000</td>\n",
              "      <td>471296.000000</td>\n",
              "      <td>153.760000</td>\n",
              "      <td>2035.000000</td>\n",
              "      <td>9.050497e+08</td>\n",
              "    </tr>\n",
              "  </tbody>\n",
              "</table>\n",
              "</div>\n",
              "      <button class=\"colab-df-convert\" onclick=\"convertToInteractive('df-bce95a8d-71ce-4902-823d-190e239d3eb4')\"\n",
              "              title=\"Convert this dataframe to an interactive table.\"\n",
              "              style=\"display:none;\">\n",
              "        \n",
              "  <svg xmlns=\"http://www.w3.org/2000/svg\" height=\"24px\"viewBox=\"0 0 24 24\"\n",
              "       width=\"24px\">\n",
              "    <path d=\"M0 0h24v24H0V0z\" fill=\"none\"/>\n",
              "    <path d=\"M18.56 5.44l.94 2.06.94-2.06 2.06-.94-2.06-.94-.94-2.06-.94 2.06-2.06.94zm-11 1L8.5 8.5l.94-2.06 2.06-.94-2.06-.94L8.5 2.5l-.94 2.06-2.06.94zm10 10l.94 2.06.94-2.06 2.06-.94-2.06-.94-.94-2.06-.94 2.06-2.06.94z\"/><path d=\"M17.41 7.96l-1.37-1.37c-.4-.4-.92-.59-1.43-.59-.52 0-1.04.2-1.43.59L10.3 9.45l-7.72 7.72c-.78.78-.78 2.05 0 2.83L4 21.41c.39.39.9.59 1.41.59.51 0 1.02-.2 1.41-.59l7.78-7.78 2.81-2.81c.8-.78.8-2.07 0-2.86zM5.41 20L4 18.59l7.72-7.72 1.47 1.35L5.41 20z\"/>\n",
              "  </svg>\n",
              "      </button>\n",
              "      \n",
              "  <style>\n",
              "    .colab-df-container {\n",
              "      display:flex;\n",
              "      flex-wrap:wrap;\n",
              "      gap: 12px;\n",
              "    }\n",
              "\n",
              "    .colab-df-convert {\n",
              "      background-color: #E8F0FE;\n",
              "      border: none;\n",
              "      border-radius: 50%;\n",
              "      cursor: pointer;\n",
              "      display: none;\n",
              "      fill: #1967D2;\n",
              "      height: 32px;\n",
              "      padding: 0 0 0 0;\n",
              "      width: 32px;\n",
              "    }\n",
              "\n",
              "    .colab-df-convert:hover {\n",
              "      background-color: #E2EBFA;\n",
              "      box-shadow: 0px 1px 2px rgba(60, 64, 67, 0.3), 0px 1px 3px 1px rgba(60, 64, 67, 0.15);\n",
              "      fill: #174EA6;\n",
              "    }\n",
              "\n",
              "    [theme=dark] .colab-df-convert {\n",
              "      background-color: #3B4455;\n",
              "      fill: #D2E3FC;\n",
              "    }\n",
              "\n",
              "    [theme=dark] .colab-df-convert:hover {\n",
              "      background-color: #434B5C;\n",
              "      box-shadow: 0px 1px 3px 1px rgba(0, 0, 0, 0.15);\n",
              "      filter: drop-shadow(0px 1px 2px rgba(0, 0, 0, 0.3));\n",
              "      fill: #FFFFFF;\n",
              "    }\n",
              "  </style>\n",
              "\n",
              "      <script>\n",
              "        const buttonEl =\n",
              "          document.querySelector('#df-bce95a8d-71ce-4902-823d-190e239d3eb4 button.colab-df-convert');\n",
              "        buttonEl.style.display =\n",
              "          google.colab.kernel.accessAllowed ? 'block' : 'none';\n",
              "\n",
              "        async function convertToInteractive(key) {\n",
              "          const element = document.querySelector('#df-bce95a8d-71ce-4902-823d-190e239d3eb4');\n",
              "          const dataTable =\n",
              "            await google.colab.kernel.invokeFunction('convertToInteractive',\n",
              "                                                     [key], {});\n",
              "          if (!dataTable) return;\n",
              "\n",
              "          const docLinkHtml = 'Like what you see? Visit the ' +\n",
              "            '<a target=\"_blank\" href=https://colab.research.google.com/notebooks/data_table.ipynb>data table notebook</a>'\n",
              "            + ' to learn more about interactive tables.';\n",
              "          element.innerHTML = '';\n",
              "          dataTable['output_type'] = 'display_data';\n",
              "          await google.colab.output.renderOutput(dataTable, element);\n",
              "          const docLink = document.createElement('div');\n",
              "          docLink.innerHTML = docLinkHtml;\n",
              "          element.appendChild(docLink);\n",
              "        }\n",
              "      </script>\n",
              "    </div>\n",
              "  </div>\n",
              "  "
            ]
          },
          "metadata": {},
          "execution_count": 191
        }
      ]
    },
    {
      "cell_type": "code",
      "source": [
        "df_ir.show()"
      ],
      "metadata": {
        "colab": {
          "base_uri": "https://localhost:8080/"
        },
        "id": "pW1pqN1BNeID",
        "outputId": "b71c186b-c895-47be-810a-4eed1868ff66"
      },
      "execution_count": 129,
      "outputs": [
        {
          "output_type": "stream",
          "name": "stdout",
          "text": [
            "+--------------------+--------------------+---------+--------+----------+--------+--------+----------+-------+\n",
            "|                idem|          product_id|client_id|discount|unit_price|quantity|store_id|      date|id_temp|\n",
            "+--------------------+--------------------+---------+--------+----------+--------+--------+----------+-------+\n",
            "|a97c9b194a026ac3e...|002d4ea7c04739c13...|    14074|    0,08|       210|       1|       2| 6/28/2019|    207|\n",
            "|ea110ced6459b4dc6...|002d4ea7c04739c13...|    14080|     0,1|       210|       1|       1|  9/3/2019|    225|\n",
            "|89fb8b371b28dcc03...|002d4ea7c04739c13...|    14088|     0,1|       210|       1|       1|  5/6/2019|    242|\n",
            "|51efa345a1180ca38...|002d4ea7c04739c13...|    14127|     0,1|       210|       1|      22|  9/4/2019|    327|\n",
            "|f89525a2a79be7efb...|002d4ea7c04739c13...|    14197|     0,1|       210|       1|       1|10/26/2019|    491|\n",
            "|6ee1c0ae2850fce09...|002d4ea7c04739c13...|    14215|     0,1|       210|       1|       1|  1/2/2019|    533|\n",
            "|c09ea37d3dd207e75...|002d4ea7c04739c13...|    14223|     0,1|       210|       1|       2| 10/9/2019|    551|\n",
            "|2c76644ebdca47aa2...|002d4ea7c04739c13...|    14228|     0,1|       210|       1|       3|  1/4/2019|    560|\n",
            "|d2d740a1b76ee640f...|002d4ea7c04739c13...|    14290|     0,1|       210|       1|       1| 5/24/2019|    678|\n",
            "|a3b51577e617e3ffd...|002d4ea7c04739c13...|    14294|     0,1|       210|       1|       2| 10/9/2019|    690|\n",
            "|ac046375de5d50de6...|002d4ea7c04739c13...|    14475|    0,08|       210|       1|       9|12/15/2019|   1095|\n",
            "|ae134de5629ae433d...|002d4ea7c04739c13...|    14527|     0,1|       210|       1|      22| 7/26/2019|   1218|\n",
            "|7b6900f9a0d0ecc69...|002d4ea7c04739c13...|    14536|     0,1|       210|       1|       1| 9/29/2019|   1245|\n",
            "|620b5f7f730ead80c...|002d4ea7c04739c13...|    14565|     0,1|       210|       1|       2|  5/1/2019|   1303|\n",
            "|f9d9fcf57feb770b0...|002d4ea7c04739c13...|    14567|    0,08|       210|       1|       1|  8/3/2019|   1309|\n",
            "|35df0cf1d7650c5c0...|002d4ea7c04739c13...|    14592|    0,08|       210|       1|       1|  6/4/2019|   1353|\n",
            "|0bfa8870838091fe8...|002d4ea7c04739c13...|    14598|     0,1|       210|       1|       2|11/21/2019|   1364|\n",
            "|18972fa50ade81fa4...|002d4ea7c04739c13...|    14726|     0,1|       210|       1|       3| 4/21/2019|   1624|\n",
            "|21e4cb49918b1d016...|002d4ea7c04739c13...|    14771|    0,08|       210|       1|       1|  8/8/2019|   1734|\n",
            "|2548aa48f7db62d55...|002d4ea7c04739c13...|    14929|    0,08|       210|       1|       3| 12/2/2019|   2085|\n",
            "+--------------------+--------------------+---------+--------+----------+--------+--------+----------+-------+\n",
            "only showing top 20 rows\n",
            "\n"
          ]
        }
      ]
    },
    {
      "cell_type": "code",
      "source": [
        "df_5.show()"
      ],
      "metadata": {
        "colab": {
          "base_uri": "https://localhost:8080/"
        },
        "id": "payXsL19LX7E",
        "outputId": "2d24a1a0-1e27-48c6-da13-dd86cc9c85c0"
      },
      "execution_count": 125,
      "outputs": [
        {
          "output_type": "stream",
          "name": "stdout",
          "text": [
            "+--------------------+--------------------+---------+--------+----------+--------+--------+----------+-------+----+\n",
            "|                idem|          product_id|client_id|discount|unit_price|quantity|store_id|      date|id_temp| ano|\n",
            "+--------------------+--------------------+---------+--------+----------+--------+--------+----------+-------+----+\n",
            "|80260d682079b6090...|002552c0663708129...|    14001|    0,08|     249,2|       1|       4|12/10/2018|      4|null|\n",
            "|3275736da1234f55d...|001b237c0e9bb435f...|    14001|     0,1|     162,4|       1|       4| 4/25/2019|      5|null|\n",
            "|f3513eec8f1434b5b...|00066f42aeeb9f300...|    14001|     0,1|     194,6|       1|       4| 7/17/2019|      6|null|\n",
            "|7180475b60fe6bbbd...|001b72dfd63e9833e...|    14002|     0,1|     201,6|       2|       1| 4/10/2018|      7|null|\n",
            "|76600853a200fe87e...|00210e41887c2a8ef...|    14002|     0,1|       406|       1|       1| 1/21/2019|      8|null|\n",
            "|7ab64f42a8f9ab290...|002552c0663708129...|    14002|     0,1|     249,2|       1|       1| 3/28/2019|      9|null|\n",
            "|b35a771164a9defa3...|002959d7a0b0990fe...|    14002|    0,08|     261,8|       1|       1| 8/14/2019|     10|null|\n",
            "|28618be7d166aad45...|00126f27c81360368...|    14002|    0,08|     114,8|       1|       1|12/30/2019|     11|null|\n",
            "|b8b9625b11ffbc12d...|001795ec6f1b187d3...|    14003|     0,1|     148,4|       1|       2|  4/8/2018|     12|null|\n",
            "|42d0d6be3900c1f50...|001c5d71ac6ad696d...|    14003|     0,1|     226,8|       2|       2| 6/19/2018|     13|null|\n",
            "|1df7ded3518147b95...|002c6dab60557c48c...|    14004|    0,08|     148,4|       1|       2| 6/22/2018|     14|null|\n",
            "|3016d3537e7828499...|0021a87d4997a48b6...|    14004|     0,1|     214,2|       1|       2|10/27/2018|     15|null|\n",
            "|7712472a07a10232d...|002af88741ba70c7b...|    14004|    0,08|     134,4|       1|       2| 6/23/2019|     16|null|\n",
            "|d53709cd250766654...|002552c0663708129...|    14004|    0,08|     249,2|       1|       2|  8/1/2019|     17|null|\n",
            "|7501e0d79e115a149...|001b72dfd63e9833e...|    14004|    0,08|     201,6|       1|       2|12/12/2019|     18|null|\n",
            "|e2cd740333fe4585e...|002552c0663708129...|    14005|     0,1|     249,2|       1|       1| 9/15/2018|     19|null|\n",
            "|2a2169e99fd0582e2...|003128f981470c3e5...|    14006|    0,08|       161|       1|       2|12/11/2018|     20|null|\n",
            "|0f740a04b4f5fce06...|003128f981470c3e5...|    14006|     0,1|       161|       1|       2| 1/30/2019|     21|null|\n",
            "|21f8398df3e0b6c3c...|003128f981470c3e5...|    14007|    0,08|       161|       1|       7|  8/7/2018|     22|null|\n",
            "|30ef7c120f099b71e...|002ec297b1b00fb9d...|    14007|    0,08|     218,4|       1|       7| 12/4/2018|     23|null|\n",
            "+--------------------+--------------------+---------+--------+----------+--------+--------+----------+-------+----+\n",
            "only showing top 20 rows\n",
            "\n"
          ]
        }
      ]
    },
    {
      "cell_type": "code",
      "source": [
        "df_novo1.show(20)"
      ],
      "metadata": {
        "colab": {
          "base_uri": "https://localhost:8080/"
        },
        "id": "pJo5DXq4wkJ1",
        "outputId": "93134f5d-d6b9-4ebe-f438-a673b1620e58"
      },
      "execution_count": 82,
      "outputs": [
        {
          "output_type": "stream",
          "name": "stdout",
          "text": [
            "+--------------------+--------------------+---------+--------+----------+--------+--------+----------+-------+\n",
            "|                idem|          product_id|client_id|discount|unit_price|quantity|store_id|      date|id_temp|\n",
            "+--------------------+--------------------+---------+--------+----------+--------+--------+----------+-------+\n",
            "|80260d682079b6090...|002552c0663708129...|    14001|    0,08|     249,2|       1|       4|12/10/2018|      4|\n",
            "|3275736da1234f55d...|001b237c0e9bb435f...|    14001|     0,1|     162,4|       1|       4| 4/25/2019|      5|\n",
            "|f3513eec8f1434b5b...|00066f42aeeb9f300...|    14001|     0,1|     194,6|       1|       4| 7/17/2019|      6|\n",
            "|7180475b60fe6bbbd...|001b72dfd63e9833e...|    14002|     0,1|     201,6|       2|       1| 4/10/2018|      7|\n",
            "|76600853a200fe87e...|00210e41887c2a8ef...|    14002|     0,1|       406|       1|       1| 1/21/2019|      8|\n",
            "|7ab64f42a8f9ab290...|002552c0663708129...|    14002|     0,1|     249,2|       1|       1| 3/28/2019|      9|\n",
            "|b35a771164a9defa3...|002959d7a0b0990fe...|    14002|    0,08|     261,8|       1|       1| 8/14/2019|     10|\n",
            "|28618be7d166aad45...|00126f27c81360368...|    14002|    0,08|     114,8|       1|       1|12/30/2019|     11|\n",
            "|b8b9625b11ffbc12d...|001795ec6f1b187d3...|    14003|     0,1|     148,4|       1|       2|  4/8/2018|     12|\n",
            "|42d0d6be3900c1f50...|001c5d71ac6ad696d...|    14003|     0,1|     226,8|       2|       2| 6/19/2018|     13|\n",
            "|1df7ded3518147b95...|002c6dab60557c48c...|    14004|    0,08|     148,4|       1|       2| 6/22/2018|     14|\n",
            "|3016d3537e7828499...|0021a87d4997a48b6...|    14004|     0,1|     214,2|       1|       2|10/27/2018|     15|\n",
            "|7712472a07a10232d...|002af88741ba70c7b...|    14004|    0,08|     134,4|       1|       2| 6/23/2019|     16|\n",
            "|d53709cd250766654...|002552c0663708129...|    14004|    0,08|     249,2|       1|       2|  8/1/2019|     17|\n",
            "|7501e0d79e115a149...|001b72dfd63e9833e...|    14004|    0,08|     201,6|       1|       2|12/12/2019|     18|\n",
            "|e2cd740333fe4585e...|002552c0663708129...|    14005|     0,1|     249,2|       1|       1| 9/15/2018|     19|\n",
            "|2a2169e99fd0582e2...|003128f981470c3e5...|    14006|    0,08|       161|       1|       2|12/11/2018|     20|\n",
            "|0f740a04b4f5fce06...|003128f981470c3e5...|    14006|     0,1|       161|       1|       2| 1/30/2019|     21|\n",
            "|21f8398df3e0b6c3c...|003128f981470c3e5...|    14007|    0,08|       161|       1|       7|  8/7/2018|     22|\n",
            "|30ef7c120f099b71e...|002ec297b1b00fb9d...|    14007|    0,08|     218,4|       1|       7| 12/4/2018|     23|\n",
            "+--------------------+--------------------+---------+--------+----------+--------+--------+----------+-------+\n",
            "only showing top 20 rows\n",
            "\n"
          ]
        }
      ]
    },
    {
      "cell_type": "code",
      "source": [
        "path2 = \"/content/sheet_2.xlsx - Sheet2.csv\""
      ],
      "metadata": {
        "id": "D1emkynBwqqV"
      },
      "execution_count": 83,
      "outputs": []
    },
    {
      "cell_type": "code",
      "source": [
        "df2 = spark.read.format(\"csv\").option(\"header\", True).option(\"ignoreLeadingWhiteSpace\", True).option(\"inferSchema\", True).options(delimiter=',').load(path2)"
      ],
      "metadata": {
        "id": "9YJPw-0x8Z4s"
      },
      "execution_count": 84,
      "outputs": []
    },
    {
      "cell_type": "code",
      "source": [
        "df2.printSchema()"
      ],
      "metadata": {
        "colab": {
          "base_uri": "https://localhost:8080/"
        },
        "id": "J80ojn-w-S7D",
        "outputId": "81510a24-59e9-4546-9dc3-694274d58598"
      },
      "execution_count": 92,
      "outputs": [
        {
          "output_type": "stream",
          "name": "stdout",
          "text": [
            "root\n",
            " |-- ID: string (nullable = true)\n",
            " |-- Name: string (nullable = true)\n",
            " |-- Size: string (nullable = true)\n",
            "\n"
          ]
        }
      ]
    },
    {
      "cell_type": "code",
      "source": [
        "id_marca = '002ec297b1b00fb9dde7ee6ac24b67713'"
      ],
      "metadata": {
        "id": "-5-rxtpzGkq0"
      },
      "execution_count": 119,
      "outputs": []
    },
    {
      "cell_type": "code",
      "source": [
        "\n",
        "df2.where(df2.Name == 'Iron Man').show(truncate=False)"
      ],
      "metadata": {
        "colab": {
          "base_uri": "https://localhost:8080/"
        },
        "id": "PjMnhRQEGq9j",
        "outputId": "e94b4804-62e0-4899-d2fe-63d49281dba0"
      },
      "execution_count": 127,
      "outputs": [
        {
          "output_type": "stream",
          "name": "stdout",
          "text": [
            "+---------------------------------+--------+----+\n",
            "|ID                               |Name    |Size|\n",
            "+---------------------------------+--------+----+\n",
            "|002d4ea7c04739c130bb74d7e7cd16941|Iron Man|P   |\n",
            "|002d4ea7c04739c130bb74d7e7cd16942|Iron Man|M   |\n",
            "|002d4ea7c04739c130bb74d7e7cd16943|Iron Man|G   |\n",
            "+---------------------------------+--------+----+\n",
            "\n"
          ]
        }
      ]
    },
    {
      "cell_type": "code",
      "source": [
        "df2.show(20, truncate=False)\n"
      ],
      "metadata": {
        "colab": {
          "base_uri": "https://localhost:8080/"
        },
        "id": "p2d9OQn28gTD",
        "outputId": "c7a55dd3-9dde-4f15-b9e6-5f1d09ec4285"
      },
      "execution_count": 95,
      "outputs": [
        {
          "output_type": "stream",
          "name": "stdout",
          "text": [
            "+---------------------------------+---------------+----+\n",
            "|ID                               |Name           |Size|\n",
            "+---------------------------------+---------------+----+\n",
            "|00066f42aeeb9f3007548bb9d3f33c381|Capitão América|P   |\n",
            "|00066f42aeeb9f3007548bb9d3f33c382|Capitão América|M   |\n",
            "|00066f42aeeb9f3007548bb9d3f33c383|Capitão América|G   |\n",
            "|00088930e925c41fd95ebfe695fd26551|Thor           |P   |\n",
            "|00088930e925c41fd95ebfe695fd26552|Thor           |M   |\n",
            "|00088930e925c41fd95ebfe695fd26553|Thor           |G   |\n",
            "|0009406fd7479715e4bef61dd91f24621|Deadpool       |P   |\n",
            "|0009406fd7479715e4bef61dd91f24622|Deadpool       |M   |\n",
            "|0009406fd7479715e4bef61dd91f24623|Deadpool       |G   |\n",
            "|000b8f95fcb9e0096488278317764d191|Pantera Negra  |P   |\n",
            "|000b8f95fcb9e0096488278317764d192|Pantera Negra  |M   |\n",
            "|000b8f95fcb9e0096488278317764d193|Pantera Negra  |G   |\n",
            "|000d9be29b5207b54e86aa1b1ac548721|Batman         |P   |\n",
            "|000d9be29b5207b54e86aa1b1ac548722|Batman         |M   |\n",
            "|000d9be29b5207b54e86aa1b1ac548723|Batman         |G   |\n",
            "|0011c512eb256aa0dbbb544d8dffcf6e1|Flash          |P   |\n",
            "|0011c512eb256aa0dbbb544d8dffcf6e2|Flash          |M   |\n",
            "|0011c512eb256aa0dbbb544d8dffcf6e3|Flash          |G   |\n",
            "|00126f27c813603687e6ce486d909d011|Coringa        |P   |\n",
            "|00126f27c813603687e6ce486d909d012|Coringa        |M   |\n",
            "+---------------------------------+---------------+----+\n",
            "only showing top 20 rows\n",
            "\n"
          ]
        }
      ]
    },
    {
      "cell_type": "code",
      "source": [
        "path3 = \"/content/sheet_3.xlsx - Sheet3.csv\""
      ],
      "metadata": {
        "id": "RKoaLt5t81Bz"
      },
      "execution_count": 86,
      "outputs": []
    },
    {
      "cell_type": "code",
      "source": [
        "df3 = spark.read.format(\"csv\").option(\"header\", True).option(\"ignoreLeadingWhiteSpace\", True).option(\"inferSchema\", True).options(delimiter=',').load(path3)"
      ],
      "metadata": {
        "id": "T0PQRBLD8x-U"
      },
      "execution_count": 87,
      "outputs": []
    },
    {
      "cell_type": "code",
      "source": [
        "df3.printSchema()"
      ],
      "metadata": {
        "colab": {
          "base_uri": "https://localhost:8080/"
        },
        "id": "U7LsRtcy-YPk",
        "outputId": "68a6e067-3e0a-4db0-aafc-a3bc660d76c6"
      },
      "execution_count": 93,
      "outputs": [
        {
          "output_type": "stream",
          "name": "stdout",
          "text": [
            "root\n",
            " |-- ID: integer (nullable = true)\n",
            " |-- City: string (nullable = true)\n",
            " |-- State: string (nullable = true)\n",
            " |-- DateOfBirth: string (nullable = true)\n",
            " |-- Sex: string (nullable = true)\n",
            "\n"
          ]
        }
      ]
    },
    {
      "cell_type": "code",
      "source": [
        "df3.show(20)"
      ],
      "metadata": {
        "colab": {
          "base_uri": "https://localhost:8080/"
        },
        "id": "hZ43W6pE8_yT",
        "outputId": "bb8898e8-ea5a-450c-8cb3-4c9c8550f7d6"
      },
      "execution_count": 88,
      "outputs": [
        {
          "output_type": "stream",
          "name": "stdout",
          "text": [
            "+-----+--------------+-----+-----------+------+\n",
            "|   ID|          City|State|DateOfBirth|   Sex|\n",
            "+-----+--------------+-----+-----------+------+\n",
            "|14001|      Curitiba|   PR|  6/28/1985| Homem|\n",
            "|14002| Florianópolis|   SC|  1/10/1987| Homem|\n",
            "|14003|Rio de Janeiro|   RJ|  11/5/1979| Homem|\n",
            "|14004|Rio de Janeiro|   RJ| 11/25/1983|Mulher|\n",
            "|14005| Florianópolis|   SC|   4/7/1969| Homem|\n",
            "|14006|Rio de Janeiro|   RJ|  8/17/1951|Mulher|\n",
            "|14007|     São Paulo|   SP|  1/23/1981| Homem|\n",
            "|14008|     São Paulo|   SP|  12/7/1971| Homem|\n",
            "|14009|Rio de Janeiro|   RJ|  12/4/1962|Mulher|\n",
            "|14010|Rio de Janeiro|   RJ|  9/13/1972| Homem|\n",
            "|14011|  Porto Alegre|   RS|  11/7/1986| Homem|\n",
            "|14012| Florianópolis|   SC|  1/25/1983| Homem|\n",
            "|14013|Rio de Janeiro|   RJ|  11/7/1979| Homem|\n",
            "|14014|Rio de Janeiro|   RJ|  11/8/1983| Homem|\n",
            "|14015|Rio piracicaba|   MG|  1/25/1963| Homem|\n",
            "|14016|      Louveira|   SP|  9/13/1979| Homem|\n",
            "|14017| Florianópolis|   SC|  6/22/1971| Homem|\n",
            "|14018|     Sao paulo|   SP|  11/9/1994| Homem|\n",
            "|14019|Rio de Janeiro|   RJ| 12/24/1985|Mulher|\n",
            "|14020|Rio de Janeiro|   RJ|   8/8/1961| Homem|\n",
            "+-----+--------------+-----+-----------+------+\n",
            "only showing top 20 rows\n",
            "\n"
          ]
        }
      ]
    },
    {
      "cell_type": "code",
      "source": [
        "path4 = \"/content/sheet_4.xlsx - Sheet4.csv\""
      ],
      "metadata": {
        "id": "xvzPA_-o9DEc"
      },
      "execution_count": 89,
      "outputs": []
    },
    {
      "cell_type": "code",
      "source": [
        "df4 = spark.read.format(\"csv\").option(\"header\", True).option(\"ignoreLeadingWhiteSpace\", True).option(\"inferSchema\", True).options(delimiter=',').load(path4)"
      ],
      "metadata": {
        "id": "MHsk4ykl9Kar"
      },
      "execution_count": 90,
      "outputs": []
    },
    {
      "cell_type": "code",
      "source": [
        "df4.printSchema()"
      ],
      "metadata": {
        "colab": {
          "base_uri": "https://localhost:8080/"
        },
        "id": "N7ArkWG2-eQD",
        "outputId": "45fed3de-8fa4-42af-dcf6-ff4ffedd3066"
      },
      "execution_count": 94,
      "outputs": [
        {
          "output_type": "stream",
          "name": "stdout",
          "text": [
            "root\n",
            " |-- ID: integer (nullable = true)\n",
            " |-- Name: string (nullable = true)\n",
            " |-- State: string (nullable = true)\n",
            "\n"
          ]
        }
      ]
    },
    {
      "cell_type": "code",
      "source": [
        "df4.show(20)"
      ],
      "metadata": {
        "colab": {
          "base_uri": "https://localhost:8080/"
        },
        "id": "tlJx3bxj9P-z",
        "outputId": "7909719d-7a38-4e59-972c-afeaa50af15f"
      },
      "execution_count": 91,
      "outputs": [
        {
          "output_type": "stream",
          "name": "stdout",
          "text": [
            "+---+--------------+-----+\n",
            "| ID|          Name|State|\n",
            "+---+--------------+-----+\n",
            "|  1| Florianópolis|   SC|\n",
            "|  2|Rio de Janeiro|   RJ|\n",
            "|  3|  Porto Alegre|   RS|\n",
            "|  4|      Curitiba|   PR|\n",
            "|  7|     São Paulo|   SP|\n",
            "|  9|Belo Horizonte|   MG|\n",
            "| 22|        Online|   na|\n",
            "+---+--------------+-----+\n",
            "\n"
          ]
        }
      ]
    }
  ]
}